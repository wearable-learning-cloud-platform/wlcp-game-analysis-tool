{
 "cells": [
  {
   "cell_type": "code",
   "execution_count": 3,
   "metadata": {},
   "outputs": [],
   "source": [
    "import csv\n",
    "import json\n",
    "import glob\n",
    "import numpy as np\n",
    "import pandas as pd\n",
    "import matplotlib.pyplot as plt\n",
    "import seaborn as sns\n",
    "\n",
    "# Scaling and Balancing\n",
    "from sklearn import preprocessing\n",
    "from sklearn.preprocessing import PolynomialFeatures\n",
    "from sklearn.preprocessing import StandardScaler\n",
    "from sklearn.datasets import make_classification\n",
    "from imblearn.over_sampling import SMOTE\n",
    "\n",
    "# Libraries required for classification\n",
    "from sklearn.neighbors import KNeighborsClassifier\n",
    "from sklearn.tree import DecisionTreeClassifier\n",
    "from sklearn.ensemble import RandomForestClassifier\n",
    "from sklearn.linear_model import LogisticRegression\n",
    "from sklearn.cluster import k_means\n",
    "\n",
    "# Libraries required for model evaluation\n",
    "from sklearn import metrics\n",
    "from sklearn.model_selection import train_test_split\n",
    "from sklearn.linear_model import Ridge\n",
    "from sklearn.model_selection import GridSearchCV\n",
    "\n",
    "from sklearn.metrics import (accuracy_score, \n",
    "                             auc, \n",
    "                             precision_score,\n",
    "                             recall_score,\n",
    "                             f1_score, \n",
    "                             roc_curve,\n",
    "                             roc_auc_score,\n",
    "                             confusion_matrix)"
   ]
  },
  {
   "cell_type": "code",
   "execution_count": 5,
   "metadata": {},
   "outputs": [],
   "source": [
    "#load JSON files\n",
    "main_dir = '../fsm-data/'\n",
    "f1 = open(main_dir + 'DidYouCatchTheBall_US.json')\n",
    "f2 = open(main_dir + 'Fireballs20-US.json')\n",
    "f3 = open(main_dir + 'Hackers_IN.json')\n",
    "f4 = open(main_dir + 'Indianboys_IN.json')\n",
    "f5 = open(main_dir + 'Indiangirls_IN.json')\n",
    "f6 = open(main_dir + 'MathParkour_US.json')\n",
    "f7 = open(main_dir + 'Raistar_IN.json')\n",
    "f8 = open(main_dir + 'TangramsRace.json')\n",
    "f9 = open(main_dir + 'TheDice_US.json')\n",
    "data1 = json.load(f1)\n",
    "data2 = json.load(f2)\n",
    "data3 = json.load(f3)\n",
    "data4 = json.load(f4)\n",
    "data5 = json.load(f5)\n",
    "data6 = json.load(f6)\n",
    "data7 = json.load(f7)\n",
    "data8 = json.load(f8)\n",
    "data9 = json.load(f9)\n",
    "\n",
    "data_arr = [data1, data2, data3, data4, data5, data6, data7, data8, data9]"
   ]
  },
  {
   "cell_type": "code",
   "execution_count": 6,
   "metadata": {},
   "outputs": [
    {
     "name": "stdout",
     "output_type": "stream",
     "text": [
      "{'gameId': 'Did you catch the ball', 'teamCount': 3, 'playersPerTeam': 3, 'username': {'usernameId': ''}, 'visibility': True, 'stateIdCount': 6, 'transitionIdCount': 5, 'connectionIdCount': 9, 'dataLog': False, 'states': [{'stateType': 'START_STATE', 'stateId': 'cd5cc25795171f429f49e183ceed2bb1_start', 'game': 'Did you catch the ball', 'positionX': 659.0, 'positionY': 100.0, 'inputConnections': [], 'outputConnections': ['cd5cc25795171f429f49e183ceed2bb1_connection_1'], 'globalVariables': []}, {'stateType': 'OUTPUT_STATE', 'stateId': 'cd5cc25795171f429f49e183ceed2bb1_state_1', 'game': 'Did you catch the ball', 'positionX': 628.0, 'positionY': 301.0, 'inputConnections': ['cd5cc25795171f429f49e183ceed2bb1_connection_1'], 'outputConnections': ['cd5cc25795171f429f49e183ceed2bb1_connection_2'], 'description': 'State', 'displayText': {'Game Wide': \"Welcome to , Did you catch the ball? \\nIf you get the question wrong, you'll get a ball thrown at you!\\nClick any button to continue to questions\"}, 'pictureOutputs': {}, 'soundOutputs': {}, 'videoOutputs': {}, 'globalVariables': {}}, {'stateType': 'OUTPUT_STATE', 'stateId': 'cd5cc25795171f429f49e183ceed2bb1_state_2', 'game': 'Did you catch the ball', 'positionX': 621.0, 'positionY': 683.0, 'inputConnections': ['cd5cc25795171f429f49e183ceed2bb1_connection_2'], 'outputConnections': ['cd5cc25795171f429f49e183ceed2bb1_connection_3', 'cd5cc25795171f429f49e183ceed2bb1_connection_4'], 'description': 'Math Question', 'displayText': {'Game Wide': '5x9'}, 'pictureOutputs': {}, 'soundOutputs': {}, 'videoOutputs': {}, 'globalVariables': {}}, {'stateType': 'OUTPUT_STATE', 'stateId': 'cd5cc25795171f429f49e183ceed2bb1_state_3', 'game': 'Did you catch the ball', 'positionX': 814.0, 'positionY': 983.0, 'inputConnections': ['cd5cc25795171f429f49e183ceed2bb1_connection_3'], 'outputConnections': ['cd5cc25795171f429f49e183ceed2bb1_connection_5', 'cd5cc25795171f429f49e183ceed2bb1_connection_6'], 'description': 'Wrong Answer', 'displayText': {'Game Wide': \"Wrong Answer! You've had a ball thrown at you!\\n\\nDid you catch it?\"}, 'pictureOutputs': {}, 'soundOutputs': {}, 'videoOutputs': {}, 'globalVariables': {}}, {'stateType': 'OUTPUT_STATE', 'stateId': 'cd5cc25795171f429f49e183ceed2bb1_state_4', 'game': 'Did you catch the ball', 'positionX': 406.0, 'positionY': 1288.0, 'inputConnections': ['cd5cc25795171f429f49e183ceed2bb1_connection_4'], 'outputConnections': [], 'description': 'Math Question', 'displayText': {'Game Wide': '6x3'}, 'pictureOutputs': {}, 'soundOutputs': {}, 'videoOutputs': {}, 'globalVariables': {}}, {'stateType': 'OUTPUT_STATE', 'stateId': 'cd5cc25795171f429f49e183ceed2bb1_state_5', 'game': 'Did you catch the ball', 'positionX': 679.0, 'positionY': 1250.0, 'inputConnections': ['cd5cc25795171f429f49e183ceed2bb1_connection_5'], 'outputConnections': [], 'description': 'Correct answer', 'displayText': {'Game Wide': 'Great! Here is your next math question! click any button to continue!'}, 'pictureOutputs': {}, 'soundOutputs': {}, 'videoOutputs': {}, 'globalVariables': {}}, {'stateType': 'OUTPUT_STATE', 'stateId': 'cd5cc25795171f429f49e183ceed2bb1_state_6', 'game': 'Did you catch the ball', 'positionX': 977.0, 'positionY': 1256.0, 'inputConnections': ['cd5cc25795171f429f49e183ceed2bb1_connection_6'], 'outputConnections': [], 'description': 'State', 'displayText': {'Game Wide': 'Oh no! your turn is up! Now your team mate will continue in the game'}, 'pictureOutputs': {}, 'soundOutputs': {}, 'videoOutputs': {}, 'globalVariables': {}}], 'connections': [{'connectionId': 'cd5cc25795171f429f49e183ceed2bb1_connection_1', 'game': 'Did you catch the ball', 'connectionFrom': 'cd5cc25795171f429f49e183ceed2bb1_start', 'connectionTo': 'cd5cc25795171f429f49e183ceed2bb1_state_1', 'backwardsLoop': False, 'transition': None}, {'connectionId': 'cd5cc25795171f429f49e183ceed2bb1_connection_2', 'game': 'Did you catch the ball', 'connectionFrom': 'cd5cc25795171f429f49e183ceed2bb1_state_1', 'connectionTo': 'cd5cc25795171f429f49e183ceed2bb1_state_2', 'backwardsLoop': False, 'transition': 'cd5cc25795171f429f49e183ceed2bb1_transition_1'}, {'connectionId': 'cd5cc25795171f429f49e183ceed2bb1_connection_3', 'game': 'Did you catch the ball', 'connectionFrom': 'cd5cc25795171f429f49e183ceed2bb1_state_2', 'connectionTo': 'cd5cc25795171f429f49e183ceed2bb1_state_3', 'backwardsLoop': False, 'transition': 'cd5cc25795171f429f49e183ceed2bb1_transition_2'}, {'connectionId': 'cd5cc25795171f429f49e183ceed2bb1_connection_4', 'game': 'Did you catch the ball', 'connectionFrom': 'cd5cc25795171f429f49e183ceed2bb1_state_2', 'connectionTo': 'cd5cc25795171f429f49e183ceed2bb1_state_4', 'backwardsLoop': False, 'transition': 'cd5cc25795171f429f49e183ceed2bb1_transition_3'}, {'connectionId': 'cd5cc25795171f429f49e183ceed2bb1_connection_5', 'game': 'Did you catch the ball', 'connectionFrom': 'cd5cc25795171f429f49e183ceed2bb1_state_3', 'connectionTo': 'cd5cc25795171f429f49e183ceed2bb1_state_5', 'backwardsLoop': False, 'transition': 'cd5cc25795171f429f49e183ceed2bb1_transition_4'}, {'connectionId': 'cd5cc25795171f429f49e183ceed2bb1_connection_6', 'game': 'Did you catch the ball', 'connectionFrom': 'cd5cc25795171f429f49e183ceed2bb1_state_3', 'connectionTo': 'cd5cc25795171f429f49e183ceed2bb1_state_6', 'backwardsLoop': False, 'transition': 'cd5cc25795171f429f49e183ceed2bb1_transition_5'}], 'transitions': [{'transitionId': 'cd5cc25795171f429f49e183ceed2bb1_transition_1', 'game': 'Did you catch the ball', 'connection': 'cd5cc25795171f429f49e183ceed2bb1_connection_2', 'activeTransitions': {'Game Wide': 'Button Press'}, 'singleButtonPresses': {'Game Wide': {'button1': True, 'button1Label': 'Red Button', 'button2': True, 'button2Label': 'Green Button', 'button3': True, 'button3Label': 'Blue Button', 'button4': True, 'button4Label': 'Black Button'}}, 'sequenceButtonPresses': {}, 'keyboardInputs': {}, 'timerDurations': {}, 'randoms': {}, 'globalVariables': {'Game Wide': {'globalVariableId': 'cd5cc25795171f429f49e183ceed2bb1_transition_1_game_wide', 'transition': 'cd5cc25795171f429f49e183ceed2bb1_transition_1', 'scope': 'Game Wide', 'globalVariableInputModifiers': []}}}, {'transitionId': 'cd5cc25795171f429f49e183ceed2bb1_transition_2', 'game': 'Did you catch the ball', 'connection': 'cd5cc25795171f429f49e183ceed2bb1_connection_3', 'activeTransitions': {'Game Wide': 'Text Entry'}, 'singleButtonPresses': {}, 'sequenceButtonPresses': {}, 'keyboardInputs': {'Game Wide': {'keyboardInputId': 'cd5cc25795171f429f49e183ceed2bb1_transition_2_game_wide', 'transition': 'cd5cc25795171f429f49e183ceed2bb1_transition_2', 'scope': 'Game Wide', 'keyboardInputs': ['']}}, 'timerDurations': {}, 'randoms': {}, 'globalVariables': {'Game Wide': {'globalVariableId': 'cd5cc25795171f429f49e183ceed2bb1_transition_2_game_wide', 'transition': 'cd5cc25795171f429f49e183ceed2bb1_transition_2', 'scope': 'Game Wide', 'globalVariableInputModifiers': []}}}, {'transitionId': 'cd5cc25795171f429f49e183ceed2bb1_transition_3', 'game': 'Did you catch the ball', 'connection': 'cd5cc25795171f429f49e183ceed2bb1_connection_4', 'activeTransitions': {'Game Wide': 'Text Entry'}, 'singleButtonPresses': {}, 'sequenceButtonPresses': {}, 'keyboardInputs': {'Game Wide': {'keyboardInputId': 'cd5cc25795171f429f49e183ceed2bb1_transition_3_game_wide', 'transition': 'cd5cc25795171f429f49e183ceed2bb1_transition_3', 'scope': 'Game Wide', 'keyboardInputs': ['45']}}, 'timerDurations': {}, 'randoms': {}, 'globalVariables': {'Game Wide': {'globalVariableId': 'cd5cc25795171f429f49e183ceed2bb1_transition_3_game_wide', 'transition': 'cd5cc25795171f429f49e183ceed2bb1_transition_3', 'scope': 'Game Wide', 'globalVariableInputModifiers': []}}}, {'transitionId': 'cd5cc25795171f429f49e183ceed2bb1_transition_4', 'game': 'Did you catch the ball', 'connection': 'cd5cc25795171f429f49e183ceed2bb1_connection_5', 'activeTransitions': {'Game Wide': 'Text Entry'}, 'singleButtonPresses': {}, 'sequenceButtonPresses': {}, 'keyboardInputs': {'Game Wide': {'keyboardInputId': 'cd5cc25795171f429f49e183ceed2bb1_transition_4_game_wide', 'transition': 'cd5cc25795171f429f49e183ceed2bb1_transition_4', 'scope': 'Game Wide', 'keyboardInputs': ['yes']}}, 'timerDurations': {}, 'randoms': {}, 'globalVariables': {'Game Wide': {'globalVariableId': 'cd5cc25795171f429f49e183ceed2bb1_transition_4_game_wide', 'transition': 'cd5cc25795171f429f49e183ceed2bb1_transition_4', 'scope': 'Game Wide', 'globalVariableInputModifiers': []}}}, {'transitionId': 'cd5cc25795171f429f49e183ceed2bb1_transition_5', 'game': 'Did you catch the ball', 'connection': 'cd5cc25795171f429f49e183ceed2bb1_connection_6', 'activeTransitions': {'Game Wide': 'Text Entry'}, 'singleButtonPresses': {}, 'sequenceButtonPresses': {}, 'keyboardInputs': {'Game Wide': {'keyboardInputId': 'cd5cc25795171f429f49e183ceed2bb1_transition_5_game_wide', 'transition': 'cd5cc25795171f429f49e183ceed2bb1_transition_5', 'scope': 'Game Wide', 'keyboardInputs': ['']}}, 'timerDurations': {}, 'randoms': {}, 'globalVariables': {'Game Wide': {'globalVariableId': 'cd5cc25795171f429f49e183ceed2bb1_transition_5_game_wide', 'transition': 'cd5cc25795171f429f49e183ceed2bb1_transition_5', 'scope': 'Game Wide', 'globalVariableInputModifiers': []}}}]}\n"
     ]
    }
   ],
   "source": [
    "print(data_arr[0])"
   ]
  },
  {
   "cell_type": "code",
   "execution_count": 7,
   "metadata": {},
   "outputs": [
    {
     "name": "stdout",
     "output_type": "stream",
     "text": [
      "{'teamCount': 3, 'playersPerTeam': 3, 'visibility': True, 'stateIdCount': 6, 'transitionIdCount': 5, 'connectionIdCount': 9, 'dataLog': False}\n",
      "{'teamCount': 2, 'playersPerTeam': 2, 'visibility': True, 'stateIdCount': 8, 'transitionIdCount': 7, 'connectionIdCount': 12, 'dataLog': False}\n",
      "{'teamCount': 2, 'playersPerTeam': 3, 'visibility': True, 'stateIdCount': 11, 'transitionIdCount': 10, 'connectionIdCount': 11, 'dataLog': False}\n"
     ]
    }
   ],
   "source": [
    "def is_float(string):\n",
    "    try:\n",
    "        float(string)\n",
    "        return True\n",
    "    except ValueError:\n",
    "        return False\n",
    "\n",
    "#Remove non-integer, non-float, and non-boolean values\n",
    "number_data = []\n",
    "for data in data_arr:\n",
    "    num_dict = {k: v for k, v in data.items() if isinstance(v, (int, float, bool)) or (str(v).isnumeric()) or is_float(str(v))}\n",
    "    number_data.append(num_dict)\n",
    "\n",
    "print(number_data[0])\n",
    "print(number_data[1])\n",
    "print(number_data[2])"
   ]
  },
  {
   "cell_type": "code",
   "execution_count": 8,
   "metadata": {},
   "outputs": [],
   "source": [
    "#Convert dicts to CSV files\n",
    "col_names = ['teamCount', 'playersPerTeam', 'visibility', 'stateIdCount', 'states', 'connections', 'transitions', 'username', 'gameId','transitionIdCount', 'connectionIdCount', 'dataLog']\n",
    "with open('data.csv', 'w') as csvfile:\n",
    "    writer = csv.DictWriter(csvfile, fieldnames=col_names)\n",
    "    writer.writeheader()\n",
    "    writer.writerows(number_data)"
   ]
  },
  {
   "cell_type": "code",
   "execution_count": null,
   "metadata": {},
   "outputs": [],
   "source": []
  }
 ],
 "metadata": {
  "kernelspec": {
   "display_name": "Python 3",
   "language": "python",
   "name": "python3"
  },
  "language_info": {
   "codemirror_mode": {
    "name": "ipython",
    "version": 3
   },
   "file_extension": ".py",
   "mimetype": "text/x-python",
   "name": "python",
   "nbconvert_exporter": "python",
   "pygments_lexer": "ipython3",
   "version": "3.9.13"
  },
  "orig_nbformat": 4
 },
 "nbformat": 4,
 "nbformat_minor": 2
}
