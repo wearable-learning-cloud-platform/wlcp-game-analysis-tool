{
 "cells": [
  {
   "attachments": {},
   "cell_type": "markdown",
   "metadata": {},
   "source": [
    "1. Importing and converting to Python Object"
   ]
  },
  {
   "cell_type": "code",
   "execution_count": 19,
   "metadata": {},
   "outputs": [],
   "source": [
    "import json\n",
    "import re\n",
    "from functools import reduce\n",
    "import glob"
   ]
  },
  {
   "attachments": {},
   "cell_type": "markdown",
   "metadata": {},
   "source": [
    "Load data from fsm_data folder. Currently, the manual analysis do have the game DidYouCatchTheBall, TheDice, and Tangram so we temporary remove them until we receive manual analysis.\n"
   ]
  },
  {
   "cell_type": "code",
   "execution_count": 20,
   "metadata": {},
   "outputs": [
    {
     "name": "stdout",
     "output_type": "stream",
     "text": [
      "6\n"
     ]
    }
   ],
   "source": [
    "data = []\n",
    "dir = \"../fsm-data/*.json\"\n",
    "old_files = sorted(glob.glob(dir, recursive=False))\n",
    "files = []\n",
    "\n",
    "# Until we got enough data, we can comment out from\n",
    "\n",
    "#here\n",
    "for file in old_files:\n",
    "  if(file != \"../fsm-data\\TheDice_US.json\" and file != \"../fsm-data\\DidYouCatchTheBall_US.json\" and file != \"../fsm-data\\TangramsRace.json\"):\n",
    "    files.append(file)\n",
    "#to_here\n",
    "\n",
    "print(len(files))\n",
    "for single_file in files:\n",
    "    with open(single_file, 'r') as f:\n",
    "        json_file = json.load(f)\n",
    "        # new_string = json.dumps(json_file, indent = 2)\n",
    "        data.append(json_file)"
   ]
  },
  {
   "attachments": {},
   "cell_type": "markdown",
   "metadata": {},
   "source": [
    "Testing purpose"
   ]
  },
  {
   "cell_type": "code",
   "execution_count": 4,
   "metadata": {},
   "outputs": [],
   "source": [
    "new_string = json.dumps(data, indent = 2)\n",
    "new_string1 = json.dumps(data, indent = 2)\n",
    "# print(new_string)\n",
    "# print(new_string1)"
   ]
  },
  {
   "attachments": {},
   "cell_type": "markdown",
   "metadata": {},
   "source": [
    "2. Defining Graph"
   ]
  },
  {
   "cell_type": "code",
   "execution_count": 5,
   "metadata": {},
   "outputs": [],
   "source": [
    "class Graph:\n",
    "    global adj, cnt\n",
    "    def __init__(self, V): #this part like a constructor...\n",
    "        self.V = V\n",
    "        self.adj = [[] for i in range(V)]\n",
    "        self.cnt = 0\n",
    "\n",
    "    def add_edge(self, source, dest):\n",
    "        self.adj[source].append(dest)\n",
    "        \n",
    "    def is_cyclic_util(self, i, visited, rec_stack):\n",
    "        if(rec_stack[i]):\n",
    "            self.cnt += 1\n",
    "            return\n",
    "        if(visited[i]): return\n",
    "        visited[i] = True\n",
    "        rec_stack[i] = True\n",
    "        children = self.adj[i]\n",
    "        \n",
    "        for c in children:\n",
    "            self.is_cyclic_util(c, visited, rec_stack)\n",
    "        \n",
    "        rec_stack[i] = False\n",
    "        return\n",
    "    \n",
    "    def count(self):\n",
    "        visited = [False for i in range(self.V)]\n",
    "        rec_stack = [False for i in range(self.V)]\n",
    "        for i in range(self.V):\n",
    "            self.is_cyclic_util(i, visited, rec_stack)\n",
    "        return self.cnt"
   ]
  },
  {
   "attachments": {},
   "cell_type": "markdown",
   "metadata": {},
   "source": [
    "3. Methods for counting loops through states and connections"
   ]
  },
  {
   "cell_type": "code",
   "execution_count": 6,
   "metadata": {},
   "outputs": [],
   "source": [
    "#this method hashing state to its corresponding index\n",
    "#Important: if the number of state does not\n",
    "def index(s, dic, idx):\n",
    "    tmp = re.findall(\"\\d+\\Z\", s)\n",
    "    return 0 if len(tmp) == 0 else int(tmp[0])\n",
    "# print(index(\"74122bc887b34237fd75ac304b9c55bd_state_10\"))"
   ]
  },
  {
   "cell_type": "code",
   "execution_count": 7,
   "metadata": {},
   "outputs": [],
   "source": [
    "#this method create a dictonary: connection = (state_from, state_to)\n",
    "#return type: dictionary\n",
    "def con_to_state(lst):\n",
    "    dic = {}\n",
    "    idx = 0\n",
    "    state_to_idx = {}\n",
    "    for e in lst:\n",
    "        if(state_to_idx.get(e[\"connectionFrom\"]) == None):\n",
    "            state_to_idx[e[\"connectionFrom\"]] = idx\n",
    "            idx += 1\n",
    "        if(state_to_idx.get(e[\"connectionTo\"]) == None):\n",
    "            state_to_idx[e[\"connectionTo\"]] = idx\n",
    "            idx += 1\n",
    "        dic[e[\"connectionId\"]] = (state_to_idx[e[\"connectionFrom\"]], state_to_idx[e[\"connectionTo\"]])\n",
    "    return dic\n"
   ]
  },
  {
   "cell_type": "code",
   "execution_count": 8,
   "metadata": {},
   "outputs": [],
   "source": [
    "def create_graph(data):\n",
    "    graph = Graph(len(data[\"states\"]))\n",
    "        \n",
    "    conv = con_to_state(data[\"connections\"])\n",
    "    \n",
    "    for e in data[\"states\"]:\n",
    "        # print(e[\"outputConnections\"])\n",
    "        for oc in e[\"outputConnections\"]:\n",
    "            start = conv[oc][0]\n",
    "            end = conv[oc][1]\n",
    "            graph.add_edge(start, end)\n",
    "    # print(graph.adj)\n",
    "    return graph\n"
   ]
  },
  {
   "cell_type": "code",
   "execution_count": 9,
   "metadata": {},
   "outputs": [],
   "source": [
    "def count_loop(graph):\n",
    "    return graph.count()\n",
    "\n",
    "def count_if_else(graph):\n",
    "    return reduce(lambda acc, cur: acc + 1 if len(cur) > 1 else acc, graph.adj, 0)\n",
    "\n",
    "def traversal(array):\n",
    "    res = []\n",
    "    for idx, e in enumerate(array):\n",
    "        graph = create_graph(e)\n",
    "        loop = count_loop(graph)\n",
    "        if_else = count_if_else(graph)\n",
    "        print(\"There are \" + str(loop) + \" loops and there are \" + str(if_else) + \" branches in the \" + str(idx + 1) + \" graph\\n\")\n",
    "        res.append((loop, if_else))\n",
    "    return res\n",
    "# you can return loop and if_else as an array of tuples by comment out the #res"
   ]
  },
  {
   "attachments": {},
   "cell_type": "markdown",
   "metadata": {},
   "source": [
    "4. Implementing: counting loops and count if-else statements"
   ]
  },
  {
   "cell_type": "code",
   "execution_count": 10,
   "metadata": {},
   "outputs": [
    {
     "name": "stdout",
     "output_type": "stream",
     "text": [
      "There are 2 loops and there are 2 branches in the 1 graph\n",
      "\n",
      "There are 0 loops and there are 0 branches in the 2 graph\n",
      "\n",
      "There are 1 loops and there are 1 branches in the 3 graph\n",
      "\n",
      "There are 0 loops and there are 0 branches in the 4 graph\n",
      "\n",
      "There are 4 loops and there are 4 branches in the 5 graph\n",
      "\n",
      "There are 1 loops and there are 2 branches in the 6 graph\n",
      "\n"
     ]
    }
   ],
   "source": [
    "res = traversal(data)"
   ]
  },
  {
   "cell_type": "code",
   "execution_count": 23,
   "metadata": {},
   "outputs": [],
   "source": [
    "cnt = 0\n",
    "with open(\"result_loop_if_else.txt\", \"w\") as f:\n",
    "    f.write(\"team, loops, branches\\n\")\n",
    "    for token in res:\n",
    "        f.write(str(cnt) + \", \")\n",
    "        f.write(str(token[0]) + \", \" + str(token[1]) + \"\\n\")\n",
    "        cnt += 1\n"
   ]
  },
  {
   "cell_type": "code",
   "execution_count": null,
   "metadata": {},
   "outputs": [],
   "source": []
  }
 ],
 "metadata": {
  "kernelspec": {
   "display_name": "Python 3",
   "language": "python",
   "name": "python3"
  },
  "language_info": {
   "codemirror_mode": {
    "name": "ipython",
    "version": 3
   },
   "file_extension": ".py",
   "mimetype": "text/x-python",
   "name": "python",
   "nbconvert_exporter": "python",
   "pygments_lexer": "ipython3",
   "version": "3.9.13"
  },
  "orig_nbformat": 4
 },
 "nbformat": 4,
 "nbformat_minor": 2
}
