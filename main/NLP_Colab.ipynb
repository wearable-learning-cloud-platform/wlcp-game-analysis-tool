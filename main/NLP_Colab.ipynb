{
  "nbformat": 4,
  "nbformat_minor": 0,
  "metadata": {
    "colab": {
      "provenance": []
    },
    "kernelspec": {
      "name": "python3",
      "display_name": "Python 3"
    },
    "language_info": {
      "name": "python"
    },
    "accelerator": "GPU",
    "gpuClass": "standard",
    "widgets": {
      "application/vnd.jupyter.widget-state+json": {
        "3a1cc82a50de4e6ba502bb72795e7df7": {
          "model_module": "@jupyter-widgets/controls",
          "model_name": "HBoxModel",
          "model_module_version": "1.5.0",
          "state": {
            "_dom_classes": [],
            "_model_module": "@jupyter-widgets/controls",
            "_model_module_version": "1.5.0",
            "_model_name": "HBoxModel",
            "_view_count": null,
            "_view_module": "@jupyter-widgets/controls",
            "_view_module_version": "1.5.0",
            "_view_name": "HBoxView",
            "box_style": "",
            "children": [
              "IPY_MODEL_320124619dff493480902d8f5db703fa",
              "IPY_MODEL_af430bda65bf48879181e8c163a26a4e",
              "IPY_MODEL_8985b43f39894d4f8d2009fa40ef7d75"
            ],
            "layout": "IPY_MODEL_8c856c93dc3d4c6887b7c7fa9bd098de"
          }
        },
        "320124619dff493480902d8f5db703fa": {
          "model_module": "@jupyter-widgets/controls",
          "model_name": "HTMLModel",
          "model_module_version": "1.5.0",
          "state": {
            "_dom_classes": [],
            "_model_module": "@jupyter-widgets/controls",
            "_model_module_version": "1.5.0",
            "_model_name": "HTMLModel",
            "_view_count": null,
            "_view_module": "@jupyter-widgets/controls",
            "_view_module_version": "1.5.0",
            "_view_name": "HTMLView",
            "description": "",
            "description_tooltip": null,
            "layout": "IPY_MODEL_269122353b4c44b39c4b06a60470189a",
            "placeholder": "​",
            "style": "IPY_MODEL_4a60ae6f93904ae9ad74101635097dc7",
            "value": "Downloading (…)solve/main/vocab.txt: 100%"
          }
        },
        "af430bda65bf48879181e8c163a26a4e": {
          "model_module": "@jupyter-widgets/controls",
          "model_name": "FloatProgressModel",
          "model_module_version": "1.5.0",
          "state": {
            "_dom_classes": [],
            "_model_module": "@jupyter-widgets/controls",
            "_model_module_version": "1.5.0",
            "_model_name": "FloatProgressModel",
            "_view_count": null,
            "_view_module": "@jupyter-widgets/controls",
            "_view_module_version": "1.5.0",
            "_view_name": "ProgressView",
            "bar_style": "success",
            "description": "",
            "description_tooltip": null,
            "layout": "IPY_MODEL_65739a89da33455989e09d2eff3a1c45",
            "max": 231508,
            "min": 0,
            "orientation": "horizontal",
            "style": "IPY_MODEL_780b7d06ba1845869e8ac7a69d797385",
            "value": 231508
          }
        },
        "8985b43f39894d4f8d2009fa40ef7d75": {
          "model_module": "@jupyter-widgets/controls",
          "model_name": "HTMLModel",
          "model_module_version": "1.5.0",
          "state": {
            "_dom_classes": [],
            "_model_module": "@jupyter-widgets/controls",
            "_model_module_version": "1.5.0",
            "_model_name": "HTMLModel",
            "_view_count": null,
            "_view_module": "@jupyter-widgets/controls",
            "_view_module_version": "1.5.0",
            "_view_name": "HTMLView",
            "description": "",
            "description_tooltip": null,
            "layout": "IPY_MODEL_620d023f55434dd9b38763ab1d329f29",
            "placeholder": "​",
            "style": "IPY_MODEL_ec9c2423552f4e0a8773fd199ac22c78",
            "value": " 232k/232k [00:00&lt;00:00, 563kB/s]"
          }
        },
        "8c856c93dc3d4c6887b7c7fa9bd098de": {
          "model_module": "@jupyter-widgets/base",
          "model_name": "LayoutModel",
          "model_module_version": "1.2.0",
          "state": {
            "_model_module": "@jupyter-widgets/base",
            "_model_module_version": "1.2.0",
            "_model_name": "LayoutModel",
            "_view_count": null,
            "_view_module": "@jupyter-widgets/base",
            "_view_module_version": "1.2.0",
            "_view_name": "LayoutView",
            "align_content": null,
            "align_items": null,
            "align_self": null,
            "border": null,
            "bottom": null,
            "display": null,
            "flex": null,
            "flex_flow": null,
            "grid_area": null,
            "grid_auto_columns": null,
            "grid_auto_flow": null,
            "grid_auto_rows": null,
            "grid_column": null,
            "grid_gap": null,
            "grid_row": null,
            "grid_template_areas": null,
            "grid_template_columns": null,
            "grid_template_rows": null,
            "height": null,
            "justify_content": null,
            "justify_items": null,
            "left": null,
            "margin": null,
            "max_height": null,
            "max_width": null,
            "min_height": null,
            "min_width": null,
            "object_fit": null,
            "object_position": null,
            "order": null,
            "overflow": null,
            "overflow_x": null,
            "overflow_y": null,
            "padding": null,
            "right": null,
            "top": null,
            "visibility": null,
            "width": null
          }
        },
        "269122353b4c44b39c4b06a60470189a": {
          "model_module": "@jupyter-widgets/base",
          "model_name": "LayoutModel",
          "model_module_version": "1.2.0",
          "state": {
            "_model_module": "@jupyter-widgets/base",
            "_model_module_version": "1.2.0",
            "_model_name": "LayoutModel",
            "_view_count": null,
            "_view_module": "@jupyter-widgets/base",
            "_view_module_version": "1.2.0",
            "_view_name": "LayoutView",
            "align_content": null,
            "align_items": null,
            "align_self": null,
            "border": null,
            "bottom": null,
            "display": null,
            "flex": null,
            "flex_flow": null,
            "grid_area": null,
            "grid_auto_columns": null,
            "grid_auto_flow": null,
            "grid_auto_rows": null,
            "grid_column": null,
            "grid_gap": null,
            "grid_row": null,
            "grid_template_areas": null,
            "grid_template_columns": null,
            "grid_template_rows": null,
            "height": null,
            "justify_content": null,
            "justify_items": null,
            "left": null,
            "margin": null,
            "max_height": null,
            "max_width": null,
            "min_height": null,
            "min_width": null,
            "object_fit": null,
            "object_position": null,
            "order": null,
            "overflow": null,
            "overflow_x": null,
            "overflow_y": null,
            "padding": null,
            "right": null,
            "top": null,
            "visibility": null,
            "width": null
          }
        },
        "4a60ae6f93904ae9ad74101635097dc7": {
          "model_module": "@jupyter-widgets/controls",
          "model_name": "DescriptionStyleModel",
          "model_module_version": "1.5.0",
          "state": {
            "_model_module": "@jupyter-widgets/controls",
            "_model_module_version": "1.5.0",
            "_model_name": "DescriptionStyleModel",
            "_view_count": null,
            "_view_module": "@jupyter-widgets/base",
            "_view_module_version": "1.2.0",
            "_view_name": "StyleView",
            "description_width": ""
          }
        },
        "65739a89da33455989e09d2eff3a1c45": {
          "model_module": "@jupyter-widgets/base",
          "model_name": "LayoutModel",
          "model_module_version": "1.2.0",
          "state": {
            "_model_module": "@jupyter-widgets/base",
            "_model_module_version": "1.2.0",
            "_model_name": "LayoutModel",
            "_view_count": null,
            "_view_module": "@jupyter-widgets/base",
            "_view_module_version": "1.2.0",
            "_view_name": "LayoutView",
            "align_content": null,
            "align_items": null,
            "align_self": null,
            "border": null,
            "bottom": null,
            "display": null,
            "flex": null,
            "flex_flow": null,
            "grid_area": null,
            "grid_auto_columns": null,
            "grid_auto_flow": null,
            "grid_auto_rows": null,
            "grid_column": null,
            "grid_gap": null,
            "grid_row": null,
            "grid_template_areas": null,
            "grid_template_columns": null,
            "grid_template_rows": null,
            "height": null,
            "justify_content": null,
            "justify_items": null,
            "left": null,
            "margin": null,
            "max_height": null,
            "max_width": null,
            "min_height": null,
            "min_width": null,
            "object_fit": null,
            "object_position": null,
            "order": null,
            "overflow": null,
            "overflow_x": null,
            "overflow_y": null,
            "padding": null,
            "right": null,
            "top": null,
            "visibility": null,
            "width": null
          }
        },
        "780b7d06ba1845869e8ac7a69d797385": {
          "model_module": "@jupyter-widgets/controls",
          "model_name": "ProgressStyleModel",
          "model_module_version": "1.5.0",
          "state": {
            "_model_module": "@jupyter-widgets/controls",
            "_model_module_version": "1.5.0",
            "_model_name": "ProgressStyleModel",
            "_view_count": null,
            "_view_module": "@jupyter-widgets/base",
            "_view_module_version": "1.2.0",
            "_view_name": "StyleView",
            "bar_color": null,
            "description_width": ""
          }
        },
        "620d023f55434dd9b38763ab1d329f29": {
          "model_module": "@jupyter-widgets/base",
          "model_name": "LayoutModel",
          "model_module_version": "1.2.0",
          "state": {
            "_model_module": "@jupyter-widgets/base",
            "_model_module_version": "1.2.0",
            "_model_name": "LayoutModel",
            "_view_count": null,
            "_view_module": "@jupyter-widgets/base",
            "_view_module_version": "1.2.0",
            "_view_name": "LayoutView",
            "align_content": null,
            "align_items": null,
            "align_self": null,
            "border": null,
            "bottom": null,
            "display": null,
            "flex": null,
            "flex_flow": null,
            "grid_area": null,
            "grid_auto_columns": null,
            "grid_auto_flow": null,
            "grid_auto_rows": null,
            "grid_column": null,
            "grid_gap": null,
            "grid_row": null,
            "grid_template_areas": null,
            "grid_template_columns": null,
            "grid_template_rows": null,
            "height": null,
            "justify_content": null,
            "justify_items": null,
            "left": null,
            "margin": null,
            "max_height": null,
            "max_width": null,
            "min_height": null,
            "min_width": null,
            "object_fit": null,
            "object_position": null,
            "order": null,
            "overflow": null,
            "overflow_x": null,
            "overflow_y": null,
            "padding": null,
            "right": null,
            "top": null,
            "visibility": null,
            "width": null
          }
        },
        "ec9c2423552f4e0a8773fd199ac22c78": {
          "model_module": "@jupyter-widgets/controls",
          "model_name": "DescriptionStyleModel",
          "model_module_version": "1.5.0",
          "state": {
            "_model_module": "@jupyter-widgets/controls",
            "_model_module_version": "1.5.0",
            "_model_name": "DescriptionStyleModel",
            "_view_count": null,
            "_view_module": "@jupyter-widgets/base",
            "_view_module_version": "1.2.0",
            "_view_name": "StyleView",
            "description_width": ""
          }
        },
        "46b4ec01bce540ce87703376de596cf3": {
          "model_module": "@jupyter-widgets/controls",
          "model_name": "HBoxModel",
          "model_module_version": "1.5.0",
          "state": {
            "_dom_classes": [],
            "_model_module": "@jupyter-widgets/controls",
            "_model_module_version": "1.5.0",
            "_model_name": "HBoxModel",
            "_view_count": null,
            "_view_module": "@jupyter-widgets/controls",
            "_view_module_version": "1.5.0",
            "_view_name": "HBoxView",
            "box_style": "",
            "children": [
              "IPY_MODEL_a8b286dd4dcf453c8282be233967954b",
              "IPY_MODEL_fd0f557e0c834bc4a1fca48c318bc0c9",
              "IPY_MODEL_5db458563dcd4d4ba4f3eb63ac1b48be"
            ],
            "layout": "IPY_MODEL_1979513d10fe482eac2e838a2cce7251"
          }
        },
        "a8b286dd4dcf453c8282be233967954b": {
          "model_module": "@jupyter-widgets/controls",
          "model_name": "HTMLModel",
          "model_module_version": "1.5.0",
          "state": {
            "_dom_classes": [],
            "_model_module": "@jupyter-widgets/controls",
            "_model_module_version": "1.5.0",
            "_model_name": "HTMLModel",
            "_view_count": null,
            "_view_module": "@jupyter-widgets/controls",
            "_view_module_version": "1.5.0",
            "_view_name": "HTMLView",
            "description": "",
            "description_tooltip": null,
            "layout": "IPY_MODEL_c18db2d7d94d4310bd46a4502dcebc5a",
            "placeholder": "​",
            "style": "IPY_MODEL_1343276bf8744ee0ba6cb203d24871b9",
            "value": "Downloading (…)okenizer_config.json: 100%"
          }
        },
        "fd0f557e0c834bc4a1fca48c318bc0c9": {
          "model_module": "@jupyter-widgets/controls",
          "model_name": "FloatProgressModel",
          "model_module_version": "1.5.0",
          "state": {
            "_dom_classes": [],
            "_model_module": "@jupyter-widgets/controls",
            "_model_module_version": "1.5.0",
            "_model_name": "FloatProgressModel",
            "_view_count": null,
            "_view_module": "@jupyter-widgets/controls",
            "_view_module_version": "1.5.0",
            "_view_name": "ProgressView",
            "bar_style": "success",
            "description": "",
            "description_tooltip": null,
            "layout": "IPY_MODEL_f0f012db43e745afbaa1aeec1fea1fb5",
            "max": 28,
            "min": 0,
            "orientation": "horizontal",
            "style": "IPY_MODEL_8f9509e8fcce4c2595d73922b2fcfc0e",
            "value": 28
          }
        },
        "5db458563dcd4d4ba4f3eb63ac1b48be": {
          "model_module": "@jupyter-widgets/controls",
          "model_name": "HTMLModel",
          "model_module_version": "1.5.0",
          "state": {
            "_dom_classes": [],
            "_model_module": "@jupyter-widgets/controls",
            "_model_module_version": "1.5.0",
            "_model_name": "HTMLModel",
            "_view_count": null,
            "_view_module": "@jupyter-widgets/controls",
            "_view_module_version": "1.5.0",
            "_view_name": "HTMLView",
            "description": "",
            "description_tooltip": null,
            "layout": "IPY_MODEL_aa96a65f02c6407388889a4ac6d114b4",
            "placeholder": "​",
            "style": "IPY_MODEL_b4011e6ae4644916ac5fe89f69a2a8f8",
            "value": " 28.0/28.0 [00:00&lt;00:00, 2.16kB/s]"
          }
        },
        "1979513d10fe482eac2e838a2cce7251": {
          "model_module": "@jupyter-widgets/base",
          "model_name": "LayoutModel",
          "model_module_version": "1.2.0",
          "state": {
            "_model_module": "@jupyter-widgets/base",
            "_model_module_version": "1.2.0",
            "_model_name": "LayoutModel",
            "_view_count": null,
            "_view_module": "@jupyter-widgets/base",
            "_view_module_version": "1.2.0",
            "_view_name": "LayoutView",
            "align_content": null,
            "align_items": null,
            "align_self": null,
            "border": null,
            "bottom": null,
            "display": null,
            "flex": null,
            "flex_flow": null,
            "grid_area": null,
            "grid_auto_columns": null,
            "grid_auto_flow": null,
            "grid_auto_rows": null,
            "grid_column": null,
            "grid_gap": null,
            "grid_row": null,
            "grid_template_areas": null,
            "grid_template_columns": null,
            "grid_template_rows": null,
            "height": null,
            "justify_content": null,
            "justify_items": null,
            "left": null,
            "margin": null,
            "max_height": null,
            "max_width": null,
            "min_height": null,
            "min_width": null,
            "object_fit": null,
            "object_position": null,
            "order": null,
            "overflow": null,
            "overflow_x": null,
            "overflow_y": null,
            "padding": null,
            "right": null,
            "top": null,
            "visibility": null,
            "width": null
          }
        },
        "c18db2d7d94d4310bd46a4502dcebc5a": {
          "model_module": "@jupyter-widgets/base",
          "model_name": "LayoutModel",
          "model_module_version": "1.2.0",
          "state": {
            "_model_module": "@jupyter-widgets/base",
            "_model_module_version": "1.2.0",
            "_model_name": "LayoutModel",
            "_view_count": null,
            "_view_module": "@jupyter-widgets/base",
            "_view_module_version": "1.2.0",
            "_view_name": "LayoutView",
            "align_content": null,
            "align_items": null,
            "align_self": null,
            "border": null,
            "bottom": null,
            "display": null,
            "flex": null,
            "flex_flow": null,
            "grid_area": null,
            "grid_auto_columns": null,
            "grid_auto_flow": null,
            "grid_auto_rows": null,
            "grid_column": null,
            "grid_gap": null,
            "grid_row": null,
            "grid_template_areas": null,
            "grid_template_columns": null,
            "grid_template_rows": null,
            "height": null,
            "justify_content": null,
            "justify_items": null,
            "left": null,
            "margin": null,
            "max_height": null,
            "max_width": null,
            "min_height": null,
            "min_width": null,
            "object_fit": null,
            "object_position": null,
            "order": null,
            "overflow": null,
            "overflow_x": null,
            "overflow_y": null,
            "padding": null,
            "right": null,
            "top": null,
            "visibility": null,
            "width": null
          }
        },
        "1343276bf8744ee0ba6cb203d24871b9": {
          "model_module": "@jupyter-widgets/controls",
          "model_name": "DescriptionStyleModel",
          "model_module_version": "1.5.0",
          "state": {
            "_model_module": "@jupyter-widgets/controls",
            "_model_module_version": "1.5.0",
            "_model_name": "DescriptionStyleModel",
            "_view_count": null,
            "_view_module": "@jupyter-widgets/base",
            "_view_module_version": "1.2.0",
            "_view_name": "StyleView",
            "description_width": ""
          }
        },
        "f0f012db43e745afbaa1aeec1fea1fb5": {
          "model_module": "@jupyter-widgets/base",
          "model_name": "LayoutModel",
          "model_module_version": "1.2.0",
          "state": {
            "_model_module": "@jupyter-widgets/base",
            "_model_module_version": "1.2.0",
            "_model_name": "LayoutModel",
            "_view_count": null,
            "_view_module": "@jupyter-widgets/base",
            "_view_module_version": "1.2.0",
            "_view_name": "LayoutView",
            "align_content": null,
            "align_items": null,
            "align_self": null,
            "border": null,
            "bottom": null,
            "display": null,
            "flex": null,
            "flex_flow": null,
            "grid_area": null,
            "grid_auto_columns": null,
            "grid_auto_flow": null,
            "grid_auto_rows": null,
            "grid_column": null,
            "grid_gap": null,
            "grid_row": null,
            "grid_template_areas": null,
            "grid_template_columns": null,
            "grid_template_rows": null,
            "height": null,
            "justify_content": null,
            "justify_items": null,
            "left": null,
            "margin": null,
            "max_height": null,
            "max_width": null,
            "min_height": null,
            "min_width": null,
            "object_fit": null,
            "object_position": null,
            "order": null,
            "overflow": null,
            "overflow_x": null,
            "overflow_y": null,
            "padding": null,
            "right": null,
            "top": null,
            "visibility": null,
            "width": null
          }
        },
        "8f9509e8fcce4c2595d73922b2fcfc0e": {
          "model_module": "@jupyter-widgets/controls",
          "model_name": "ProgressStyleModel",
          "model_module_version": "1.5.0",
          "state": {
            "_model_module": "@jupyter-widgets/controls",
            "_model_module_version": "1.5.0",
            "_model_name": "ProgressStyleModel",
            "_view_count": null,
            "_view_module": "@jupyter-widgets/base",
            "_view_module_version": "1.2.0",
            "_view_name": "StyleView",
            "bar_color": null,
            "description_width": ""
          }
        },
        "aa96a65f02c6407388889a4ac6d114b4": {
          "model_module": "@jupyter-widgets/base",
          "model_name": "LayoutModel",
          "model_module_version": "1.2.0",
          "state": {
            "_model_module": "@jupyter-widgets/base",
            "_model_module_version": "1.2.0",
            "_model_name": "LayoutModel",
            "_view_count": null,
            "_view_module": "@jupyter-widgets/base",
            "_view_module_version": "1.2.0",
            "_view_name": "LayoutView",
            "align_content": null,
            "align_items": null,
            "align_self": null,
            "border": null,
            "bottom": null,
            "display": null,
            "flex": null,
            "flex_flow": null,
            "grid_area": null,
            "grid_auto_columns": null,
            "grid_auto_flow": null,
            "grid_auto_rows": null,
            "grid_column": null,
            "grid_gap": null,
            "grid_row": null,
            "grid_template_areas": null,
            "grid_template_columns": null,
            "grid_template_rows": null,
            "height": null,
            "justify_content": null,
            "justify_items": null,
            "left": null,
            "margin": null,
            "max_height": null,
            "max_width": null,
            "min_height": null,
            "min_width": null,
            "object_fit": null,
            "object_position": null,
            "order": null,
            "overflow": null,
            "overflow_x": null,
            "overflow_y": null,
            "padding": null,
            "right": null,
            "top": null,
            "visibility": null,
            "width": null
          }
        },
        "b4011e6ae4644916ac5fe89f69a2a8f8": {
          "model_module": "@jupyter-widgets/controls",
          "model_name": "DescriptionStyleModel",
          "model_module_version": "1.5.0",
          "state": {
            "_model_module": "@jupyter-widgets/controls",
            "_model_module_version": "1.5.0",
            "_model_name": "DescriptionStyleModel",
            "_view_count": null,
            "_view_module": "@jupyter-widgets/base",
            "_view_module_version": "1.2.0",
            "_view_name": "StyleView",
            "description_width": ""
          }
        },
        "1b76bd3862c546879a01bd8fb6ec3203": {
          "model_module": "@jupyter-widgets/controls",
          "model_name": "HBoxModel",
          "model_module_version": "1.5.0",
          "state": {
            "_dom_classes": [],
            "_model_module": "@jupyter-widgets/controls",
            "_model_module_version": "1.5.0",
            "_model_name": "HBoxModel",
            "_view_count": null,
            "_view_module": "@jupyter-widgets/controls",
            "_view_module_version": "1.5.0",
            "_view_name": "HBoxView",
            "box_style": "",
            "children": [
              "IPY_MODEL_a296109c73974d079ce78af10c7e981b",
              "IPY_MODEL_754cd7af5cf54721b4ff8e621adb55ae",
              "IPY_MODEL_4e6634448e8c43e0a5563e18712d2d91"
            ],
            "layout": "IPY_MODEL_eb46eb134d534fa29402166dc53f5612"
          }
        },
        "a296109c73974d079ce78af10c7e981b": {
          "model_module": "@jupyter-widgets/controls",
          "model_name": "HTMLModel",
          "model_module_version": "1.5.0",
          "state": {
            "_dom_classes": [],
            "_model_module": "@jupyter-widgets/controls",
            "_model_module_version": "1.5.0",
            "_model_name": "HTMLModel",
            "_view_count": null,
            "_view_module": "@jupyter-widgets/controls",
            "_view_module_version": "1.5.0",
            "_view_name": "HTMLView",
            "description": "",
            "description_tooltip": null,
            "layout": "IPY_MODEL_64ba9168230844d79680f185e0a3ecaa",
            "placeholder": "​",
            "style": "IPY_MODEL_18acc6f967154d8091d974dc04044047",
            "value": "Downloading (…)lve/main/config.json: 100%"
          }
        },
        "754cd7af5cf54721b4ff8e621adb55ae": {
          "model_module": "@jupyter-widgets/controls",
          "model_name": "FloatProgressModel",
          "model_module_version": "1.5.0",
          "state": {
            "_dom_classes": [],
            "_model_module": "@jupyter-widgets/controls",
            "_model_module_version": "1.5.0",
            "_model_name": "FloatProgressModel",
            "_view_count": null,
            "_view_module": "@jupyter-widgets/controls",
            "_view_module_version": "1.5.0",
            "_view_name": "ProgressView",
            "bar_style": "success",
            "description": "",
            "description_tooltip": null,
            "layout": "IPY_MODEL_281c5f14ce3c4ab3a685df4595b130df",
            "max": 483,
            "min": 0,
            "orientation": "horizontal",
            "style": "IPY_MODEL_69bbd0d6e6a743fa97d66e4e319b66d7",
            "value": 483
          }
        },
        "4e6634448e8c43e0a5563e18712d2d91": {
          "model_module": "@jupyter-widgets/controls",
          "model_name": "HTMLModel",
          "model_module_version": "1.5.0",
          "state": {
            "_dom_classes": [],
            "_model_module": "@jupyter-widgets/controls",
            "_model_module_version": "1.5.0",
            "_model_name": "HTMLModel",
            "_view_count": null,
            "_view_module": "@jupyter-widgets/controls",
            "_view_module_version": "1.5.0",
            "_view_name": "HTMLView",
            "description": "",
            "description_tooltip": null,
            "layout": "IPY_MODEL_f1766d72bab34305b7c728b201adc76e",
            "placeholder": "​",
            "style": "IPY_MODEL_3553cb501fd94bca8f6135fd9616887f",
            "value": " 483/483 [00:00&lt;00:00, 21.2kB/s]"
          }
        },
        "eb46eb134d534fa29402166dc53f5612": {
          "model_module": "@jupyter-widgets/base",
          "model_name": "LayoutModel",
          "model_module_version": "1.2.0",
          "state": {
            "_model_module": "@jupyter-widgets/base",
            "_model_module_version": "1.2.0",
            "_model_name": "LayoutModel",
            "_view_count": null,
            "_view_module": "@jupyter-widgets/base",
            "_view_module_version": "1.2.0",
            "_view_name": "LayoutView",
            "align_content": null,
            "align_items": null,
            "align_self": null,
            "border": null,
            "bottom": null,
            "display": null,
            "flex": null,
            "flex_flow": null,
            "grid_area": null,
            "grid_auto_columns": null,
            "grid_auto_flow": null,
            "grid_auto_rows": null,
            "grid_column": null,
            "grid_gap": null,
            "grid_row": null,
            "grid_template_areas": null,
            "grid_template_columns": null,
            "grid_template_rows": null,
            "height": null,
            "justify_content": null,
            "justify_items": null,
            "left": null,
            "margin": null,
            "max_height": null,
            "max_width": null,
            "min_height": null,
            "min_width": null,
            "object_fit": null,
            "object_position": null,
            "order": null,
            "overflow": null,
            "overflow_x": null,
            "overflow_y": null,
            "padding": null,
            "right": null,
            "top": null,
            "visibility": null,
            "width": null
          }
        },
        "64ba9168230844d79680f185e0a3ecaa": {
          "model_module": "@jupyter-widgets/base",
          "model_name": "LayoutModel",
          "model_module_version": "1.2.0",
          "state": {
            "_model_module": "@jupyter-widgets/base",
            "_model_module_version": "1.2.0",
            "_model_name": "LayoutModel",
            "_view_count": null,
            "_view_module": "@jupyter-widgets/base",
            "_view_module_version": "1.2.0",
            "_view_name": "LayoutView",
            "align_content": null,
            "align_items": null,
            "align_self": null,
            "border": null,
            "bottom": null,
            "display": null,
            "flex": null,
            "flex_flow": null,
            "grid_area": null,
            "grid_auto_columns": null,
            "grid_auto_flow": null,
            "grid_auto_rows": null,
            "grid_column": null,
            "grid_gap": null,
            "grid_row": null,
            "grid_template_areas": null,
            "grid_template_columns": null,
            "grid_template_rows": null,
            "height": null,
            "justify_content": null,
            "justify_items": null,
            "left": null,
            "margin": null,
            "max_height": null,
            "max_width": null,
            "min_height": null,
            "min_width": null,
            "object_fit": null,
            "object_position": null,
            "order": null,
            "overflow": null,
            "overflow_x": null,
            "overflow_y": null,
            "padding": null,
            "right": null,
            "top": null,
            "visibility": null,
            "width": null
          }
        },
        "18acc6f967154d8091d974dc04044047": {
          "model_module": "@jupyter-widgets/controls",
          "model_name": "DescriptionStyleModel",
          "model_module_version": "1.5.0",
          "state": {
            "_model_module": "@jupyter-widgets/controls",
            "_model_module_version": "1.5.0",
            "_model_name": "DescriptionStyleModel",
            "_view_count": null,
            "_view_module": "@jupyter-widgets/base",
            "_view_module_version": "1.2.0",
            "_view_name": "StyleView",
            "description_width": ""
          }
        },
        "281c5f14ce3c4ab3a685df4595b130df": {
          "model_module": "@jupyter-widgets/base",
          "model_name": "LayoutModel",
          "model_module_version": "1.2.0",
          "state": {
            "_model_module": "@jupyter-widgets/base",
            "_model_module_version": "1.2.0",
            "_model_name": "LayoutModel",
            "_view_count": null,
            "_view_module": "@jupyter-widgets/base",
            "_view_module_version": "1.2.0",
            "_view_name": "LayoutView",
            "align_content": null,
            "align_items": null,
            "align_self": null,
            "border": null,
            "bottom": null,
            "display": null,
            "flex": null,
            "flex_flow": null,
            "grid_area": null,
            "grid_auto_columns": null,
            "grid_auto_flow": null,
            "grid_auto_rows": null,
            "grid_column": null,
            "grid_gap": null,
            "grid_row": null,
            "grid_template_areas": null,
            "grid_template_columns": null,
            "grid_template_rows": null,
            "height": null,
            "justify_content": null,
            "justify_items": null,
            "left": null,
            "margin": null,
            "max_height": null,
            "max_width": null,
            "min_height": null,
            "min_width": null,
            "object_fit": null,
            "object_position": null,
            "order": null,
            "overflow": null,
            "overflow_x": null,
            "overflow_y": null,
            "padding": null,
            "right": null,
            "top": null,
            "visibility": null,
            "width": null
          }
        },
        "69bbd0d6e6a743fa97d66e4e319b66d7": {
          "model_module": "@jupyter-widgets/controls",
          "model_name": "ProgressStyleModel",
          "model_module_version": "1.5.0",
          "state": {
            "_model_module": "@jupyter-widgets/controls",
            "_model_module_version": "1.5.0",
            "_model_name": "ProgressStyleModel",
            "_view_count": null,
            "_view_module": "@jupyter-widgets/base",
            "_view_module_version": "1.2.0",
            "_view_name": "StyleView",
            "bar_color": null,
            "description_width": ""
          }
        },
        "f1766d72bab34305b7c728b201adc76e": {
          "model_module": "@jupyter-widgets/base",
          "model_name": "LayoutModel",
          "model_module_version": "1.2.0",
          "state": {
            "_model_module": "@jupyter-widgets/base",
            "_model_module_version": "1.2.0",
            "_model_name": "LayoutModel",
            "_view_count": null,
            "_view_module": "@jupyter-widgets/base",
            "_view_module_version": "1.2.0",
            "_view_name": "LayoutView",
            "align_content": null,
            "align_items": null,
            "align_self": null,
            "border": null,
            "bottom": null,
            "display": null,
            "flex": null,
            "flex_flow": null,
            "grid_area": null,
            "grid_auto_columns": null,
            "grid_auto_flow": null,
            "grid_auto_rows": null,
            "grid_column": null,
            "grid_gap": null,
            "grid_row": null,
            "grid_template_areas": null,
            "grid_template_columns": null,
            "grid_template_rows": null,
            "height": null,
            "justify_content": null,
            "justify_items": null,
            "left": null,
            "margin": null,
            "max_height": null,
            "max_width": null,
            "min_height": null,
            "min_width": null,
            "object_fit": null,
            "object_position": null,
            "order": null,
            "overflow": null,
            "overflow_x": null,
            "overflow_y": null,
            "padding": null,
            "right": null,
            "top": null,
            "visibility": null,
            "width": null
          }
        },
        "3553cb501fd94bca8f6135fd9616887f": {
          "model_module": "@jupyter-widgets/controls",
          "model_name": "DescriptionStyleModel",
          "model_module_version": "1.5.0",
          "state": {
            "_model_module": "@jupyter-widgets/controls",
            "_model_module_version": "1.5.0",
            "_model_name": "DescriptionStyleModel",
            "_view_count": null,
            "_view_module": "@jupyter-widgets/base",
            "_view_module_version": "1.2.0",
            "_view_name": "StyleView",
            "description_width": ""
          }
        },
        "1c6bf97894fb4db3a5e27d8fd13248f4": {
          "model_module": "@jupyter-widgets/controls",
          "model_name": "HBoxModel",
          "model_module_version": "1.5.0",
          "state": {
            "_dom_classes": [],
            "_model_module": "@jupyter-widgets/controls",
            "_model_module_version": "1.5.0",
            "_model_name": "HBoxModel",
            "_view_count": null,
            "_view_module": "@jupyter-widgets/controls",
            "_view_module_version": "1.5.0",
            "_view_name": "HBoxView",
            "box_style": "",
            "children": [
              "IPY_MODEL_b671a0ee224141c1a326ea0a34186d81",
              "IPY_MODEL_7844e9af620649daba7fc17a46447c33",
              "IPY_MODEL_37d774847bab4df8b2465df52575f53c"
            ],
            "layout": "IPY_MODEL_5d2c86b44c024c4d8b005d5d823e733f"
          }
        },
        "b671a0ee224141c1a326ea0a34186d81": {
          "model_module": "@jupyter-widgets/controls",
          "model_name": "HTMLModel",
          "model_module_version": "1.5.0",
          "state": {
            "_dom_classes": [],
            "_model_module": "@jupyter-widgets/controls",
            "_model_module_version": "1.5.0",
            "_model_name": "HTMLModel",
            "_view_count": null,
            "_view_module": "@jupyter-widgets/controls",
            "_view_module_version": "1.5.0",
            "_view_name": "HTMLView",
            "description": "",
            "description_tooltip": null,
            "layout": "IPY_MODEL_9b105083e9eb458eb0df81b8e0a75bae",
            "placeholder": "​",
            "style": "IPY_MODEL_ff44dce4c6534d2fa0312cc8edcdcbd5",
            "value": "Downloading pytorch_model.bin: 100%"
          }
        },
        "7844e9af620649daba7fc17a46447c33": {
          "model_module": "@jupyter-widgets/controls",
          "model_name": "FloatProgressModel",
          "model_module_version": "1.5.0",
          "state": {
            "_dom_classes": [],
            "_model_module": "@jupyter-widgets/controls",
            "_model_module_version": "1.5.0",
            "_model_name": "FloatProgressModel",
            "_view_count": null,
            "_view_module": "@jupyter-widgets/controls",
            "_view_module_version": "1.5.0",
            "_view_name": "ProgressView",
            "bar_style": "success",
            "description": "",
            "description_tooltip": null,
            "layout": "IPY_MODEL_2a43ae1c5d67425cb8ecefe396ee48d8",
            "max": 267967963,
            "min": 0,
            "orientation": "horizontal",
            "style": "IPY_MODEL_bce3ebc1a2d04498a5442704bcbb2238",
            "value": 267967963
          }
        },
        "37d774847bab4df8b2465df52575f53c": {
          "model_module": "@jupyter-widgets/controls",
          "model_name": "HTMLModel",
          "model_module_version": "1.5.0",
          "state": {
            "_dom_classes": [],
            "_model_module": "@jupyter-widgets/controls",
            "_model_module_version": "1.5.0",
            "_model_name": "HTMLModel",
            "_view_count": null,
            "_view_module": "@jupyter-widgets/controls",
            "_view_module_version": "1.5.0",
            "_view_name": "HTMLView",
            "description": "",
            "description_tooltip": null,
            "layout": "IPY_MODEL_53df5ef8decd4f5cbd29771be9bf70f8",
            "placeholder": "​",
            "style": "IPY_MODEL_017cf1687f3f46ec9ad32ed754456b4c",
            "value": " 268M/268M [00:00&lt;00:00, 395MB/s]"
          }
        },
        "5d2c86b44c024c4d8b005d5d823e733f": {
          "model_module": "@jupyter-widgets/base",
          "model_name": "LayoutModel",
          "model_module_version": "1.2.0",
          "state": {
            "_model_module": "@jupyter-widgets/base",
            "_model_module_version": "1.2.0",
            "_model_name": "LayoutModel",
            "_view_count": null,
            "_view_module": "@jupyter-widgets/base",
            "_view_module_version": "1.2.0",
            "_view_name": "LayoutView",
            "align_content": null,
            "align_items": null,
            "align_self": null,
            "border": null,
            "bottom": null,
            "display": null,
            "flex": null,
            "flex_flow": null,
            "grid_area": null,
            "grid_auto_columns": null,
            "grid_auto_flow": null,
            "grid_auto_rows": null,
            "grid_column": null,
            "grid_gap": null,
            "grid_row": null,
            "grid_template_areas": null,
            "grid_template_columns": null,
            "grid_template_rows": null,
            "height": null,
            "justify_content": null,
            "justify_items": null,
            "left": null,
            "margin": null,
            "max_height": null,
            "max_width": null,
            "min_height": null,
            "min_width": null,
            "object_fit": null,
            "object_position": null,
            "order": null,
            "overflow": null,
            "overflow_x": null,
            "overflow_y": null,
            "padding": null,
            "right": null,
            "top": null,
            "visibility": null,
            "width": null
          }
        },
        "9b105083e9eb458eb0df81b8e0a75bae": {
          "model_module": "@jupyter-widgets/base",
          "model_name": "LayoutModel",
          "model_module_version": "1.2.0",
          "state": {
            "_model_module": "@jupyter-widgets/base",
            "_model_module_version": "1.2.0",
            "_model_name": "LayoutModel",
            "_view_count": null,
            "_view_module": "@jupyter-widgets/base",
            "_view_module_version": "1.2.0",
            "_view_name": "LayoutView",
            "align_content": null,
            "align_items": null,
            "align_self": null,
            "border": null,
            "bottom": null,
            "display": null,
            "flex": null,
            "flex_flow": null,
            "grid_area": null,
            "grid_auto_columns": null,
            "grid_auto_flow": null,
            "grid_auto_rows": null,
            "grid_column": null,
            "grid_gap": null,
            "grid_row": null,
            "grid_template_areas": null,
            "grid_template_columns": null,
            "grid_template_rows": null,
            "height": null,
            "justify_content": null,
            "justify_items": null,
            "left": null,
            "margin": null,
            "max_height": null,
            "max_width": null,
            "min_height": null,
            "min_width": null,
            "object_fit": null,
            "object_position": null,
            "order": null,
            "overflow": null,
            "overflow_x": null,
            "overflow_y": null,
            "padding": null,
            "right": null,
            "top": null,
            "visibility": null,
            "width": null
          }
        },
        "ff44dce4c6534d2fa0312cc8edcdcbd5": {
          "model_module": "@jupyter-widgets/controls",
          "model_name": "DescriptionStyleModel",
          "model_module_version": "1.5.0",
          "state": {
            "_model_module": "@jupyter-widgets/controls",
            "_model_module_version": "1.5.0",
            "_model_name": "DescriptionStyleModel",
            "_view_count": null,
            "_view_module": "@jupyter-widgets/base",
            "_view_module_version": "1.2.0",
            "_view_name": "StyleView",
            "description_width": ""
          }
        },
        "2a43ae1c5d67425cb8ecefe396ee48d8": {
          "model_module": "@jupyter-widgets/base",
          "model_name": "LayoutModel",
          "model_module_version": "1.2.0",
          "state": {
            "_model_module": "@jupyter-widgets/base",
            "_model_module_version": "1.2.0",
            "_model_name": "LayoutModel",
            "_view_count": null,
            "_view_module": "@jupyter-widgets/base",
            "_view_module_version": "1.2.0",
            "_view_name": "LayoutView",
            "align_content": null,
            "align_items": null,
            "align_self": null,
            "border": null,
            "bottom": null,
            "display": null,
            "flex": null,
            "flex_flow": null,
            "grid_area": null,
            "grid_auto_columns": null,
            "grid_auto_flow": null,
            "grid_auto_rows": null,
            "grid_column": null,
            "grid_gap": null,
            "grid_row": null,
            "grid_template_areas": null,
            "grid_template_columns": null,
            "grid_template_rows": null,
            "height": null,
            "justify_content": null,
            "justify_items": null,
            "left": null,
            "margin": null,
            "max_height": null,
            "max_width": null,
            "min_height": null,
            "min_width": null,
            "object_fit": null,
            "object_position": null,
            "order": null,
            "overflow": null,
            "overflow_x": null,
            "overflow_y": null,
            "padding": null,
            "right": null,
            "top": null,
            "visibility": null,
            "width": null
          }
        },
        "bce3ebc1a2d04498a5442704bcbb2238": {
          "model_module": "@jupyter-widgets/controls",
          "model_name": "ProgressStyleModel",
          "model_module_version": "1.5.0",
          "state": {
            "_model_module": "@jupyter-widgets/controls",
            "_model_module_version": "1.5.0",
            "_model_name": "ProgressStyleModel",
            "_view_count": null,
            "_view_module": "@jupyter-widgets/base",
            "_view_module_version": "1.2.0",
            "_view_name": "StyleView",
            "bar_color": null,
            "description_width": ""
          }
        },
        "53df5ef8decd4f5cbd29771be9bf70f8": {
          "model_module": "@jupyter-widgets/base",
          "model_name": "LayoutModel",
          "model_module_version": "1.2.0",
          "state": {
            "_model_module": "@jupyter-widgets/base",
            "_model_module_version": "1.2.0",
            "_model_name": "LayoutModel",
            "_view_count": null,
            "_view_module": "@jupyter-widgets/base",
            "_view_module_version": "1.2.0",
            "_view_name": "LayoutView",
            "align_content": null,
            "align_items": null,
            "align_self": null,
            "border": null,
            "bottom": null,
            "display": null,
            "flex": null,
            "flex_flow": null,
            "grid_area": null,
            "grid_auto_columns": null,
            "grid_auto_flow": null,
            "grid_auto_rows": null,
            "grid_column": null,
            "grid_gap": null,
            "grid_row": null,
            "grid_template_areas": null,
            "grid_template_columns": null,
            "grid_template_rows": null,
            "height": null,
            "justify_content": null,
            "justify_items": null,
            "left": null,
            "margin": null,
            "max_height": null,
            "max_width": null,
            "min_height": null,
            "min_width": null,
            "object_fit": null,
            "object_position": null,
            "order": null,
            "overflow": null,
            "overflow_x": null,
            "overflow_y": null,
            "padding": null,
            "right": null,
            "top": null,
            "visibility": null,
            "width": null
          }
        },
        "017cf1687f3f46ec9ad32ed754456b4c": {
          "model_module": "@jupyter-widgets/controls",
          "model_name": "DescriptionStyleModel",
          "model_module_version": "1.5.0",
          "state": {
            "_model_module": "@jupyter-widgets/controls",
            "_model_module_version": "1.5.0",
            "_model_name": "DescriptionStyleModel",
            "_view_count": null,
            "_view_module": "@jupyter-widgets/base",
            "_view_module_version": "1.2.0",
            "_view_name": "StyleView",
            "description_width": ""
          }
        }
      }
    }
  },
  "cells": [
    {
      "cell_type": "markdown",
      "source": [
        "PART I: Extracting the data"
      ],
      "metadata": {
        "id": "kJJyDFNvD1am"
      }
    },
    {
      "cell_type": "code",
      "execution_count": null,
      "metadata": {
        "id": "VZOrV3dX2L2O"
      },
      "outputs": [],
      "source": [
        "import json\n",
        "import pandas as pd\n",
        "from ast import literal_eval\n",
        "import glob\n",
        "import csv\n",
        "import copy\n",
        "import os"
      ]
    },
    {
      "cell_type": "markdown",
      "source": [
        "Load data from fsm_data folder. Currently, the manual analysis do have the game DisYouCatchTheBall, TheDice, and Tangram so we remove them\n",
        "\n",
        "> Note: the dir variable may differ in the local folder\n",
        "\n"
      ],
      "metadata": {
        "id": "7wBk_0GbBWzG"
      }
    },
    {
      "cell_type": "code",
      "source": [
        "data = []\n",
        "dir = '/content/fsm_data/*'\n",
        "files = sorted(glob.glob(dir, recursive=False))\n",
        "for single_file in files:\n",
        "  if ((single_file=='/content/fsm_data/DidYouCatchTheBall_US.json') or (single_file == '/content/fsm_data/TheDice_US.json') or (single_file == '/content/fsm_data/TangramsRace.json')):\n",
        "    files.remove(single_file)\n",
        "  # if (single_file=='/content/fsm_data/TheDice_US.json'):\n",
        "  #   files.remove(single_file)\n",
        "  print(single_file)\n",
        "#print(files)\n",
        "for single_file in files:\n",
        "    with open(single_file, 'r') as f:\n",
        "        json_file = json.load(f)\n",
        "        new_string = json.dumps(json_file, indent = 2)\n",
        "        # print(new_string)\n",
        "        data.append(json_file)"
      ],
      "metadata": {
        "id": "VDTNsRON2Q3b",
        "colab": {
          "base_uri": "https://localhost:8080/"
        },
        "outputId": "726732af-4842-46f0-cb97-6410ee67dc7a"
      },
      "execution_count": null,
      "outputs": [
        {
          "output_type": "stream",
          "name": "stdout",
          "text": [
            "/content/fsm_data/Hackers_IN.json\n",
            "/content/fsm_data/Indianboys_IN.json\n",
            "/content/fsm_data/Indiangirls_IN.json\n",
            "/content/fsm_data/MathParkour_US.json\n",
            "/content/fsm_data/Raistar_IN.json\n",
            "/content/fsm_data/fireballs20-us.json\n"
          ]
        }
      ]
    },
    {
      "cell_type": "markdown",
      "source": [
        "Extract all of the text in the game. The considered text are from 'displayText' attribute in the json file"
      ],
      "metadata": {
        "id": "SGvuAmbzBkTE"
      }
    },
    {
      "cell_type": "code",
      "source": [
        "c = []\n",
        "for single_file in data:\n",
        "    temp = single_file['states']\n",
        "    d = []\n",
        "    #print('------------------------------')\n",
        "    for i in temp:\n",
        "        att = list(i.keys())\n",
        "        for key in att:\n",
        "            if (key == 'displayText'):\n",
        "                s = ''\n",
        "                text = list(i[key].keys())\n",
        "                for j in text:\n",
        "                    s += i[key][j]\n",
        "                if (not (s == '')):\n",
        "                    d.append(s)\n",
        "    c.append(d)"
      ],
      "metadata": {
        "id": "2DHShSTq2S-Y"
      },
      "execution_count": null,
      "outputs": []
    },
    {
      "cell_type": "markdown",
      "source": [
        "Extracting the data from csv file in manual_data folder, and turn them into pandas DataFrame\n",
        "\n",
        "\n",
        "> Note: All csv need to be in the same name as the json file to keep the proper order (the right input goes with the right output). Furthermore, the number of files in both input and output must be the same (cannot have more input or have more output than the other)\n",
        "\n",
        "We also drop some of the unneccessary columns (criterias that seems unrelated to NLP)\n",
        "\n"
      ],
      "metadata": {
        "id": "Wm6B-wrTBpwc"
      }
    },
    {
      "cell_type": "code",
      "source": [
        "dir_csv = '/content/manual_data/*'\n",
        "csv_files = sorted(glob.glob(dir_csv, recursive=False))\n",
        "df_list = (pd.read_csv(file) for file in csv_files)\n",
        "labels = list(df_list)\n",
        "for y in labels:\n",
        "   y.drop(columns=[\"NAME\",\"Day\",\"Targeted Grade Level\",\"Presence of Teams\", \"Team Dynamics No Teams\", \"Team Size\", \"Number of Teams\", \"Team Dynamics Between Teams\", \"Team Dynamics Within Teams\", \"Drawing Components [Rules]\", \"Drawing Components [Physical Objects]\", \"Drawing Components [Physical Space]\", \"Drawing Components [Timing]\", \"Drawing Components [Physicality]\", \"FSMD Components [Rules]\", \"FSMD Components [Physical Objects]\", \"FSMD Components [Physical Space]\", \"FSMD Components [Timing]\", \"FSMD Components [Physicality]\", \"Presence of Finite State Machine Diagram\", \"Output State Representation\", \"Transition State Representation\", \"Finite State Machine Diagram Consistency with Specified Rules\", \"State Consistency (Boxes)\", \"Transition Consistency (Arrows)\", \"Finite State Machine Diagram Completion\", \"States/Boxes\", \"Transitions/Arrows\", \"Numbered States\", \"Evidence of Programming Language Knowledge [Arrow(s) that loop to a previous state]\"], inplace = True)\n"
      ],
      "metadata": {
        "id": "MZrcmrK92VOW"
      },
      "execution_count": null,
      "outputs": []
    },
    {
      "cell_type": "markdown",
      "source": [
        "Keep the input and output as a single DataFrame (may be deleted later)"
      ],
      "metadata": {
        "id": "nOirWrtqCiGy"
      }
    },
    {
      "cell_type": "code",
      "source": [
        "li = []\n",
        "for names in csv_files:\n",
        "  dft = pd.read_csv(names, index_col=None, header=0)\n",
        "  dft.drop(columns=[\"NAME\",\"Day\",\"Targeted Grade Level\",\"Presence of Teams\", \"Team Dynamics No Teams\", \"Team Size\", \"Number of Teams\", \"Team Dynamics Between Teams\", \"Team Dynamics Within Teams\", \"Drawing Components [Rules]\", \"Drawing Components [Physical Objects]\", \"Drawing Components [Physical Space]\", \"Drawing Components [Timing]\", \"Drawing Components [Physicality]\", \"FSMD Components [Rules]\", \"FSMD Components [Physical Objects]\", \"FSMD Components [Physical Space]\", \"FSMD Components [Timing]\", \"FSMD Components [Physicality]\", \"Presence of Finite State Machine Diagram\", \"Output State Representation\", \"Transition State Representation\", \"Finite State Machine Diagram Consistency with Specified Rules\", \"State Consistency (Boxes)\", \"Transition Consistency (Arrows)\", \"Finite State Machine Diagram Completion\", \"States/Boxes\", \"Transitions/Arrows\", \"Numbered States\", \"Evidence of Programming Language Knowledge [Arrow(s) that loop to a previous state]\"], inplace = True)\n",
        "  li.append(dft)\n",
        "frame = pd.concat(li, axis=0, ignore_index=True)\n",
        "x = []\n",
        "for col in frame.columns:\n",
        "  if (col != 'Input'):\n",
        "    x.append(col)\n",
        "\n",
        "print(x)"
      ],
      "metadata": {
        "colab": {
          "base_uri": "https://localhost:8080/"
        },
        "id": "rZuA-i1K2aeZ",
        "outputId": "8c3730b4-1a64-466a-f9e8-aec661733ca9"
      },
      "execution_count": null,
      "outputs": [
        {
          "output_type": "stream",
          "name": "stdout",
          "text": [
            "['Game Descriptor', 'Content [Counting and Cardinality ]', 'Content [Operations and Algebraic Thinking ]', 'Content [Number and Operations in Base Ten]', 'Content [Number and Operations with Fractions]', 'Content [Measurement and Data]', 'Content [Geometry]', 'Content [Ratio and Proportions]', 'Content [The Number System]', 'Content [Expressions and Equations]', 'Content [Functions]', 'Content [Statistics and Probability ]', 'Progressive Levels', 'Content Adaptability', 'Game Facilitator', 'End-Goal', 'Technological Incorporation', 'Technological Dependency', 'Player Competition (No Teams)', 'Player Collaboration', 'Team Competition', 'Team Collaboration', 'Facilitator Competition', 'Facilitator Collaboration', 'Physicality', 'Physicality Option', 'Sweat Factor', 'Physical Contact', 'Style of Physical Contact', 'Physical Space Diagram', 'Physical Environment', 'If you selected 0 (Unspecified), select one of the following codes related to the size of the environment for gameplay based on the students’ descriptions.', 'Motor Action and Math Relationship', 'Mathematical Importance', 'Mathematical Utilization', 'Written Narrative Components [Rules]', 'Written Narrative Components [Physical Objects]', 'Written Narrative Components [Physical Space]', 'Written Narrative Components [Timing]', 'Written Narrative Components [Physicality]', 'Input Types [RFID]', 'Input Types [Buttons]', 'Input Types [GPS]', 'Input Types [Keyboard]', 'Input Types [Touch Interface]', 'Input Types [Timer]', 'Input Types [Other User]', 'Specification of Mistakes', 'Domain Level: Management-Level', 'Domain Level: Team-Level', 'Domain Level: Player-Level', 'Labeled Arrows (includes input to transition; excludes numbers)', 'Evidence of Programming Language Knowledge [A reference to “If-then” Statements]', 'Evidence of Programming Language Knowledge [A reference to “While” Loops; or “Do this... until ...”]']\n"
          ]
        }
      ]
    },
    {
      "cell_type": "code",
      "source": [
        "pip install transformers"
      ],
      "metadata": {
        "id": "0Ibyey1U2caf",
        "colab": {
          "base_uri": "https://localhost:8080/"
        },
        "outputId": "8789e191-bc01-4573-d2c0-0f568e6526da"
      },
      "execution_count": null,
      "outputs": [
        {
          "output_type": "stream",
          "name": "stdout",
          "text": [
            "Looking in indexes: https://pypi.org/simple, https://us-python.pkg.dev/colab-wheels/public/simple/\n",
            "Collecting transformers\n",
            "  Downloading transformers-4.29.2-py3-none-any.whl (7.1 MB)\n",
            "\u001b[2K     \u001b[90m━━━━━━━━━━━━━━━━━━━━━━━━━━━━━━━━━━━━━━━━\u001b[0m \u001b[32m7.1/7.1 MB\u001b[0m \u001b[31m94.5 MB/s\u001b[0m eta \u001b[36m0:00:00\u001b[0m\n",
            "\u001b[?25hRequirement already satisfied: filelock in /usr/local/lib/python3.10/dist-packages (from transformers) (3.12.0)\n",
            "Collecting huggingface-hub<1.0,>=0.14.1 (from transformers)\n",
            "  Downloading huggingface_hub-0.14.1-py3-none-any.whl (224 kB)\n",
            "\u001b[2K     \u001b[90m━━━━━━━━━━━━━━━━━━━━━━━━━━━━━━━━━━━━━━\u001b[0m \u001b[32m224.5/224.5 kB\u001b[0m \u001b[31m28.2 MB/s\u001b[0m eta \u001b[36m0:00:00\u001b[0m\n",
            "\u001b[?25hRequirement already satisfied: numpy>=1.17 in /usr/local/lib/python3.10/dist-packages (from transformers) (1.22.4)\n",
            "Requirement already satisfied: packaging>=20.0 in /usr/local/lib/python3.10/dist-packages (from transformers) (23.1)\n",
            "Requirement already satisfied: pyyaml>=5.1 in /usr/local/lib/python3.10/dist-packages (from transformers) (6.0)\n",
            "Requirement already satisfied: regex!=2019.12.17 in /usr/local/lib/python3.10/dist-packages (from transformers) (2022.10.31)\n",
            "Requirement already satisfied: requests in /usr/local/lib/python3.10/dist-packages (from transformers) (2.27.1)\n",
            "Collecting tokenizers!=0.11.3,<0.14,>=0.11.1 (from transformers)\n",
            "  Downloading tokenizers-0.13.3-cp310-cp310-manylinux_2_17_x86_64.manylinux2014_x86_64.whl (7.8 MB)\n",
            "\u001b[2K     \u001b[90m━━━━━━━━━━━━━━━━━━━━━━━━━━━━━━━━━━━━━━━━\u001b[0m \u001b[32m7.8/7.8 MB\u001b[0m \u001b[31m105.9 MB/s\u001b[0m eta \u001b[36m0:00:00\u001b[0m\n",
            "\u001b[?25hRequirement already satisfied: tqdm>=4.27 in /usr/local/lib/python3.10/dist-packages (from transformers) (4.65.0)\n",
            "Requirement already satisfied: fsspec in /usr/local/lib/python3.10/dist-packages (from huggingface-hub<1.0,>=0.14.1->transformers) (2023.4.0)\n",
            "Requirement already satisfied: typing-extensions>=3.7.4.3 in /usr/local/lib/python3.10/dist-packages (from huggingface-hub<1.0,>=0.14.1->transformers) (4.5.0)\n",
            "Requirement already satisfied: urllib3<1.27,>=1.21.1 in /usr/local/lib/python3.10/dist-packages (from requests->transformers) (1.26.15)\n",
            "Requirement already satisfied: certifi>=2017.4.17 in /usr/local/lib/python3.10/dist-packages (from requests->transformers) (2022.12.7)\n",
            "Requirement already satisfied: charset-normalizer~=2.0.0 in /usr/local/lib/python3.10/dist-packages (from requests->transformers) (2.0.12)\n",
            "Requirement already satisfied: idna<4,>=2.5 in /usr/local/lib/python3.10/dist-packages (from requests->transformers) (3.4)\n",
            "Installing collected packages: tokenizers, huggingface-hub, transformers\n",
            "Successfully installed huggingface-hub-0.14.1 tokenizers-0.13.3 transformers-4.29.2\n"
          ]
        }
      ]
    },
    {
      "cell_type": "code",
      "source": [
        "import pandas as pd\n",
        "import torch\n",
        "from tqdm import tqdm\n",
        "from torch.utils.data import Dataset, DataLoader, RandomSampler, SequentialSampler\n",
        "from transformers import DistilBertTokenizer, DistilBertModel"
      ],
      "metadata": {
        "id": "LWhZ2f7e2oIF"
      },
      "execution_count": null,
      "outputs": []
    },
    {
      "cell_type": "markdown",
      "source": [
        "Initializing the size for our input to feed to the model"
      ],
      "metadata": {
        "id": "MEeZ-hcqFmuH"
      }
    },
    {
      "cell_type": "code",
      "source": [
        "MAX_LEN = 133\n",
        "TRAIN_BATCH_SIZE = 4\n",
        "VALID_BATCH_SIZE = 2 \n",
        "EPOCHS = 3\n",
        "LEARNING_RATE = 1e-05\n",
        "DEVICE = 'cuda:0' if torch.cuda.is_available() else 'cpu'\n",
        "print(DEVICE)"
      ],
      "metadata": {
        "id": "mxRLEjhs2yLM",
        "colab": {
          "base_uri": "https://localhost:8080/"
        },
        "outputId": "d9ff95a5-58e3-4640-e20a-c6dc72fc6ee9"
      },
      "execution_count": null,
      "outputs": [
        {
          "output_type": "stream",
          "name": "stdout",
          "text": [
            "cuda:0\n"
          ]
        }
      ]
    },
    {
      "cell_type": "markdown",
      "source": [
        "The following two cells create a single DataFrame that holds the input text and the labels"
      ],
      "metadata": {
        "id": "0YehWZ54F6JG"
      }
    },
    {
      "cell_type": "code",
      "source": [
        "input = []\n",
        "for arr in c:\n",
        "  temp = ''\n",
        "  for i in arr:\n",
        "    i+='.'\n",
        "    temp += i\n",
        "  input.append(temp)"
      ],
      "metadata": {
        "id": "6foN3nt-3suy"
      },
      "execution_count": null,
      "outputs": []
    },
    {
      "cell_type": "code",
      "source": [
        "tempf = []\n",
        "for u in labels:\n",
        "  tempt = []\n",
        "  for k in x:\n",
        "    t = (u[k].values)[0]\n",
        "    tempt.append(t)\n",
        "  tempf.append(tempt)\n",
        "\n",
        "dataf = {'Input': input, 'Output': tempf}\n",
        "train_data = pd.DataFrame(dataf)\n",
        "# print(df)"
      ],
      "metadata": {
        "id": "BkzzBcD53Dje"
      },
      "execution_count": null,
      "outputs": []
    },
    {
      "cell_type": "markdown",
      "source": [
        "PART II: Building the model"
      ],
      "metadata": {
        "id": "usp89VG619NB"
      }
    },
    {
      "cell_type": "markdown",
      "source": [
        "We define a PyTorch Dataset class called MultiLabelDataset that is used to preprocess text data for multi-label text classification tasks using the DistilBERT model.\n",
        "\n",
        "We put our DataFrame into the class and it will tokenize the text (in a way needed for BERT), generate the attention mask and put all of them in a Tensor object. \n",
        "\n",
        "More info about the tokenization process: BERT needs the input to be breaks down into smaller tokens and padd all inputs to be the same length (also, all sentences must be padded with the '[CLS]' and '[SEP]' tokens at start and end)"
      ],
      "metadata": {
        "id": "xw_PSc65Koiz"
      }
    },
    {
      "cell_type": "code",
      "source": [
        "class MultiLabelDataset(Dataset):\n",
        "\n",
        "    def __init__(self, dataframe, tokenizer, max_len, new_data=False):\n",
        "        self.tokenizer = tokenizer\n",
        "        self.data = dataframe\n",
        "        self.text = dataframe.Input\n",
        "        self.new_data = new_data\n",
        "        \n",
        "        if not new_data:\n",
        "            self.targets = self.data.Output\n",
        "        self.max_len = max_len\n",
        "\n",
        "    def __len__(self):\n",
        "        return len(self.text)\n",
        "\n",
        "    def __getitem__(self, index):\n",
        "        text = str(self.text[index])\n",
        "        text = \" \".join(text.split())\n",
        "\n",
        "        inputs = self.tokenizer.encode_plus(\n",
        "            text,\n",
        "            None,\n",
        "            add_special_tokens=True,\n",
        "            max_length=self.max_len,\n",
        "            pad_to_max_length=True,\n",
        "            return_token_type_ids=True\n",
        "        )\n",
        "        ids = inputs['input_ids']\n",
        "        mask = inputs['attention_mask']\n",
        "        token_type_ids = inputs[\"token_type_ids\"]\n",
        "\n",
        "        out = {\n",
        "            'ids': torch.tensor(ids, dtype=torch.long),\n",
        "            'mask': torch.tensor(mask, dtype=torch.long),\n",
        "            'token_type_ids': torch.tensor(token_type_ids, dtype=torch.long),\n",
        "        }\n",
        "        \n",
        "        if not self.new_data:\n",
        "            out['targets'] = torch.tensor(self.targets[index], dtype=torch.float)\n",
        "\n",
        "        return out"
      ],
      "metadata": {
        "id": "4KR8uPIL4DAY"
      },
      "execution_count": null,
      "outputs": []
    },
    {
      "cell_type": "markdown",
      "source": [
        "Split out data into training set and validation set"
      ],
      "metadata": {
        "id": "O4IqsabILxiS"
      }
    },
    {
      "cell_type": "code",
      "source": [
        "train_size = 0.7\n",
        "\n",
        "train_df = train_data.sample(frac=train_size, random_state=123)\n",
        "val_df = train_data.drop(train_df.index).reset_index(drop=True)\n",
        "train_df = train_df.reset_index(drop=True)\n",
        "\n",
        "\n",
        "print(\"Orig Dataset: {}\".format(train_data.shape))\n",
        "print(\"Training Dataset: {}\".format(train_df.shape))\n",
        "print(\"Validation Dataset: {}\".format(val_df.shape))\n",
        "\n",
        "tokenizer = DistilBertTokenizer.from_pretrained('distilbert-base-uncased', truncation=True, do_lower_case=True)\n",
        "training_set = MultiLabelDataset(train_df, tokenizer, MAX_LEN)\n",
        "val_set = MultiLabelDataset(val_df, tokenizer, MAX_LEN)"
      ],
      "metadata": {
        "id": "GXbdmNoo4ETq",
        "colab": {
          "base_uri": "https://localhost:8080/",
          "height": 167,
          "referenced_widgets": [
            "3a1cc82a50de4e6ba502bb72795e7df7",
            "320124619dff493480902d8f5db703fa",
            "af430bda65bf48879181e8c163a26a4e",
            "8985b43f39894d4f8d2009fa40ef7d75",
            "8c856c93dc3d4c6887b7c7fa9bd098de",
            "269122353b4c44b39c4b06a60470189a",
            "4a60ae6f93904ae9ad74101635097dc7",
            "65739a89da33455989e09d2eff3a1c45",
            "780b7d06ba1845869e8ac7a69d797385",
            "620d023f55434dd9b38763ab1d329f29",
            "ec9c2423552f4e0a8773fd199ac22c78",
            "46b4ec01bce540ce87703376de596cf3",
            "a8b286dd4dcf453c8282be233967954b",
            "fd0f557e0c834bc4a1fca48c318bc0c9",
            "5db458563dcd4d4ba4f3eb63ac1b48be",
            "1979513d10fe482eac2e838a2cce7251",
            "c18db2d7d94d4310bd46a4502dcebc5a",
            "1343276bf8744ee0ba6cb203d24871b9",
            "f0f012db43e745afbaa1aeec1fea1fb5",
            "8f9509e8fcce4c2595d73922b2fcfc0e",
            "aa96a65f02c6407388889a4ac6d114b4",
            "b4011e6ae4644916ac5fe89f69a2a8f8",
            "1b76bd3862c546879a01bd8fb6ec3203",
            "a296109c73974d079ce78af10c7e981b",
            "754cd7af5cf54721b4ff8e621adb55ae",
            "4e6634448e8c43e0a5563e18712d2d91",
            "eb46eb134d534fa29402166dc53f5612",
            "64ba9168230844d79680f185e0a3ecaa",
            "18acc6f967154d8091d974dc04044047",
            "281c5f14ce3c4ab3a685df4595b130df",
            "69bbd0d6e6a743fa97d66e4e319b66d7",
            "f1766d72bab34305b7c728b201adc76e",
            "3553cb501fd94bca8f6135fd9616887f"
          ]
        },
        "outputId": "a11bb81b-99c5-4005-ba77-2026c40c10ab"
      },
      "execution_count": null,
      "outputs": [
        {
          "output_type": "stream",
          "name": "stdout",
          "text": [
            "Orig Dataset: (6, 2)\n",
            "Training Dataset: (4, 2)\n",
            "Validation Dataset: (2, 2)\n"
          ]
        },
        {
          "output_type": "display_data",
          "data": {
            "text/plain": [
              "Downloading (…)solve/main/vocab.txt:   0%|          | 0.00/232k [00:00<?, ?B/s]"
            ],
            "application/vnd.jupyter.widget-view+json": {
              "version_major": 2,
              "version_minor": 0,
              "model_id": "3a1cc82a50de4e6ba502bb72795e7df7"
            }
          },
          "metadata": {}
        },
        {
          "output_type": "display_data",
          "data": {
            "text/plain": [
              "Downloading (…)okenizer_config.json:   0%|          | 0.00/28.0 [00:00<?, ?B/s]"
            ],
            "application/vnd.jupyter.widget-view+json": {
              "version_major": 2,
              "version_minor": 0,
              "model_id": "46b4ec01bce540ce87703376de596cf3"
            }
          },
          "metadata": {}
        },
        {
          "output_type": "display_data",
          "data": {
            "text/plain": [
              "Downloading (…)lve/main/config.json:   0%|          | 0.00/483 [00:00<?, ?B/s]"
            ],
            "application/vnd.jupyter.widget-view+json": {
              "version_major": 2,
              "version_minor": 0,
              "model_id": "1b76bd3862c546879a01bd8fb6ec3203"
            }
          },
          "metadata": {}
        }
      ]
    },
    {
      "cell_type": "code",
      "source": [
        "train_params = {'batch_size': TRAIN_BATCH_SIZE,\n",
        "                'shuffle': True,\n",
        "                'num_workers': 8\n",
        "                }\n",
        "\n",
        "val_params = {'batch_size': VALID_BATCH_SIZE,\n",
        "               'shuffle': False,\n",
        "               'num_workers': 8\n",
        "                }\n",
        "\n",
        "training_loader = DataLoader(training_set, **train_params)"
      ],
      "metadata": {
        "id": "zwAVAcga4x6G",
        "colab": {
          "base_uri": "https://localhost:8080/"
        },
        "outputId": "59f4400b-d44a-4033-d809-cb3dbb1e0ee9"
      },
      "execution_count": null,
      "outputs": [
        {
          "output_type": "stream",
          "name": "stderr",
          "text": [
            "/usr/local/lib/python3.10/dist-packages/torch/utils/data/dataloader.py:561: UserWarning: This DataLoader will create 8 worker processes in total. Our suggested max number of worker in current system is 2, which is smaller than what this DataLoader is going to create. Please be aware that excessive worker creation might get DataLoader running slow or even freeze, lower the worker number to avoid potential slowness/freeze if necessary.\n",
            "  warnings.warn(_create_warning_msg(\n"
          ]
        }
      ]
    },
    {
      "cell_type": "markdown",
      "source": [
        "This is a model that is built up on DistilBertModel, which is a lighter, faster version of the normal Bert Model.\n",
        "\n",
        "When calling forward(), the model breaks down the inputs into hidden states, which refer to the internal representation of a sequence of text, such as a sentence or a document, that is learned by a machine learning model\n",
        "\n",
        "In the case of the DistilBERT model, the hidden state refers to the internal representation of the input text at each layer of the model. Each layer of the model takes the output of the previous layer and produces a new hidden state that captures increasingly complex and abstract features of the input text. The final hidden state of the last layer, corresponding to the [CLS] token in the input sequence, is typically used as the input to downstream tasks such as text classification, question answering, or text generation.\n",
        "\n",
        "After we have the hidden states, the model run the classifer, which is a sequence of three layers. The last layer would be a fully connected layer with 768 input neurons and 54 output neurons (54 represents our classes). The output of this classifier will be used to predict the classification label of the input text.\n",
        "\n",
        "Having multiple layers of transformers allows the model to capture increasingly complex and abstract features of the input text, as each layer can build on the representations learned by the previous layer. However, increasing the number of layers can also make the model more prone to overfitting, as it may start to memorize the training data instead of learning general patterns."
      ],
      "metadata": {
        "id": "KB1mOkfMJCSu"
      }
    },
    {
      "cell_type": "code",
      "source": [
        "class DistilBERTClass(torch.nn.Module):\n",
        "    def __init__(self):\n",
        "        super(DistilBERTClass, self).__init__()\n",
        "        \n",
        "        self.bert = DistilBertModel.from_pretrained(\"distilbert-base-uncased\")\n",
        "        self.classifier = torch.nn.Sequential(\n",
        "            torch.nn.Linear(768, 768),\n",
        "            torch.nn.ReLU(),\n",
        "            torch.nn.Dropout(0.1),\n",
        "            torch.nn.Linear(768, 54)\n",
        "        )\n",
        "\n",
        "    def forward(self, input_ids, attention_mask, token_type_ids):\n",
        "        output_1 = self.bert(input_ids=input_ids, attention_mask=attention_mask)\n",
        "        hidden_state = output_1[0]\n",
        "        out = hidden_state[:, 0]\n",
        "        out = self.classifier(out)\n",
        "        return out\n",
        "\n",
        "model = DistilBERTClass()\n",
        "model.to(DEVICE);"
      ],
      "metadata": {
        "id": "l4l-6Mrj44Kq",
        "colab": {
          "base_uri": "https://localhost:8080/",
          "height": 123,
          "referenced_widgets": [
            "1c6bf97894fb4db3a5e27d8fd13248f4",
            "b671a0ee224141c1a326ea0a34186d81",
            "7844e9af620649daba7fc17a46447c33",
            "37d774847bab4df8b2465df52575f53c",
            "5d2c86b44c024c4d8b005d5d823e733f",
            "9b105083e9eb458eb0df81b8e0a75bae",
            "ff44dce4c6534d2fa0312cc8edcdcbd5",
            "2a43ae1c5d67425cb8ecefe396ee48d8",
            "bce3ebc1a2d04498a5442704bcbb2238",
            "53df5ef8decd4f5cbd29771be9bf70f8",
            "017cf1687f3f46ec9ad32ed754456b4c"
          ]
        },
        "outputId": "d4b3fa9e-58cf-4045-c27a-607b1169fe1a"
      },
      "execution_count": null,
      "outputs": [
        {
          "output_type": "display_data",
          "data": {
            "text/plain": [
              "Downloading pytorch_model.bin:   0%|          | 0.00/268M [00:00<?, ?B/s]"
            ],
            "application/vnd.jupyter.widget-view+json": {
              "version_major": 2,
              "version_minor": 0,
              "model_id": "1c6bf97894fb4db3a5e27d8fd13248f4"
            }
          },
          "metadata": {}
        },
        {
          "output_type": "stream",
          "name": "stderr",
          "text": [
            "Some weights of the model checkpoint at distilbert-base-uncased were not used when initializing DistilBertModel: ['vocab_transform.bias', 'vocab_layer_norm.weight', 'vocab_projector.weight', 'vocab_transform.weight', 'vocab_layer_norm.bias', 'vocab_projector.bias']\n",
            "- This IS expected if you are initializing DistilBertModel from the checkpoint of a model trained on another task or with another architecture (e.g. initializing a BertForSequenceClassification model from a BertForPreTraining model).\n",
            "- This IS NOT expected if you are initializing DistilBertModel from the checkpoint of a model that you expect to be exactly identical (initializing a BertForSequenceClassification model from a BertForSequenceClassification model).\n"
          ]
        }
      ]
    },
    {
      "cell_type": "markdown",
      "source": [
        "The optimizer is an algorithm used during the training of a neural network to adjust the model's weights and biases based on the computed gradients of the loss function. The goal of the optimizer is to minimize the loss function and improve the accuracy of the model's predictions.\n",
        "The Adam optimizer is a popular optimization algorithm that is commonly used in deep learning. It is an extension of stochastic gradient descent (SGD) and is known for its ability to converge quickly and efficiently, even for large and complex models.\n",
        "\n"
      ],
      "metadata": {
        "id": "IzntD6D1NML6"
      }
    },
    {
      "cell_type": "code",
      "source": [
        "optimizer = torch.optim.Adam(params=model.parameters(), lr=LEARNING_RATE)"
      ],
      "metadata": {
        "id": "DgzonD0K4_3O"
      },
      "execution_count": null,
      "outputs": []
    },
    {
      "cell_type": "markdown",
      "source": [
        "During one epoch, the model receives the entire training dataset, processes it forward and backward through the network, and updates the model parameters. \n",
        "\n",
        "The train function is called for each epoch and sets the model to training mode using model.train(). It then iterates over the batches in the training_loader, loads the batch data onto the DEVICE, and passes it through the model to obtain the outputs.\n",
        "\n",
        "The optimizer's gradients are set to zero with optimizer.zero_grad() to prevent accumulation of gradients from previous batches. The loss is computed using the binary_cross_entropy_with_logits function from torch.nn.functional. This function computes the binary cross-entropy loss between the outputs and the targets.\n",
        "\n",
        "loss.backward() computes the gradients of the binary cross-entropy loss with respect to each parameter of the model, which is then used by the optimizer to update the model parameters in the next step of the training loop"
      ],
      "metadata": {
        "id": "C5wOr4rP1BxI"
      }
    },
    {
      "cell_type": "code",
      "source": [
        "\n",
        "def train(epoch):\n",
        "    model.train()\n",
        "    for _, data in tqdm(enumerate(training_loader, 0)):\n",
        "        ids = data['ids'].to(DEVICE, dtype=torch.long)\n",
        "        mask = data['mask'].to(DEVICE, dtype=torch.long)\n",
        "        token_type_ids = data['token_type_ids'].to(DEVICE, dtype=torch.long)\n",
        "        targets = data['targets'].to(DEVICE, dtype=torch.float)\n",
        "\n",
        "        outputs = model(ids, mask, token_type_ids)\n",
        "\n",
        "        print(type(outputs))\n",
        "        optimizer.zero_grad()\n",
        "        loss = torch.nn.functional.binary_cross_entropy_with_logits(outputs, targets)\n",
        "        \n",
        "        if _ % 5000 == 0:\n",
        "            print(f'Epoch: {epoch}, Loss:  {loss.item()}')\n",
        "        \n",
        "        loss.backward()\n",
        "        optimizer.step()\n",
        "\n",
        "for epoch in range(EPOCHS):\n",
        "    train(epoch)"
      ],
      "metadata": {
        "id": "Aw2pTVNR5ODj",
        "colab": {
          "base_uri": "https://localhost:8080/"
        },
        "outputId": "a0e9ea9a-e1d6-4395-fdf5-1900b1ce6a26"
      },
      "execution_count": null,
      "outputs": [
        {
          "output_type": "stream",
          "name": "stderr",
          "text": [
            "/usr/local/lib/python3.10/dist-packages/torch/utils/data/dataloader.py:561: UserWarning: This DataLoader will create 8 worker processes in total. Our suggested max number of worker in current system is 2, which is smaller than what this DataLoader is going to create. Please be aware that excessive worker creation might get DataLoader running slow or even freeze, lower the worker number to avoid potential slowness/freeze if necessary.\n",
            "  warnings.warn(_create_warning_msg(\n",
            "0it [00:00, ?it/s]/usr/local/lib/python3.10/dist-packages/transformers/tokenization_utils_base.py:2364: FutureWarning: The `pad_to_max_length` argument is deprecated and will be removed in a future version, use `padding=True` or `padding='longest'` to pad to the longest sequence in the batch, or use `padding='max_length'` to pad to a max length. In this case, you can give a specific length with `max_length` (e.g. `max_length=45`) or leave max_length to None to pad to the maximal input size of the model (e.g. 512 for Bert).\n",
            "  warnings.warn(\n",
            "1it [00:00,  7.53it/s]"
          ]
        },
        {
          "output_type": "stream",
          "name": "stdout",
          "text": [
            "         0         1         2         3         4         5         6   \\\n",
            "0  0.167245 -0.002925  0.052576 -0.039000 -0.217555 -0.149561 -0.125101   \n",
            "1  0.116708  0.073087  0.044703 -0.133143 -0.300710 -0.054160 -0.083151   \n",
            "2  0.242028 -0.031560  0.059711 -0.043476 -0.142392 -0.128237 -0.123465   \n",
            "3  0.089968  0.057981  0.002981 -0.056353 -0.157701 -0.192990 -0.154423   \n",
            "\n",
            "         7         8         9   ...        44        45        46        47  \\\n",
            "0  0.067683 -0.029428 -0.075443  ...  0.042194 -0.153113 -0.046316 -0.172097   \n",
            "1  0.024772  0.009650 -0.093608  ...  0.021583 -0.140596 -0.164997 -0.145313   \n",
            "2  0.081921 -0.019117 -0.038668  ...  0.021207 -0.172215 -0.113014 -0.157280   \n",
            "3  0.016763 -0.059301 -0.004641  ...  0.065751 -0.154059 -0.068631 -0.107838   \n",
            "\n",
            "         48        49        50        51        52        53  \n",
            "0  0.103648 -0.130676 -0.188862 -0.171284 -0.347703 -0.091149  \n",
            "1  0.166138 -0.114653 -0.126334 -0.005592 -0.410020  0.054568  \n",
            "2  0.072922 -0.004060 -0.209105 -0.146473 -0.305480 -0.008946  \n",
            "3  0.025660 -0.076413 -0.128978 -0.098671 -0.359353  0.076833  \n",
            "\n",
            "[4 rows x 54 columns]\n",
            "<class 'torch.Tensor'>\n",
            "Epoch: 0, Loss:  0.6511545777320862\n"
          ]
        },
        {
          "output_type": "stream",
          "name": "stderr",
          "text": [
            "\r1it [00:00,  2.95it/s]\n",
            "/usr/local/lib/python3.10/dist-packages/torch/utils/data/dataloader.py:561: UserWarning: This DataLoader will create 8 worker processes in total. Our suggested max number of worker in current system is 2, which is smaller than what this DataLoader is going to create. Please be aware that excessive worker creation might get DataLoader running slow or even freeze, lower the worker number to avoid potential slowness/freeze if necessary.\n",
            "  warnings.warn(_create_warning_msg(\n",
            "0it [00:00, ?it/s]/usr/local/lib/python3.10/dist-packages/transformers/tokenization_utils_base.py:2364: FutureWarning: The `pad_to_max_length` argument is deprecated and will be removed in a future version, use `padding=True` or `padding='longest'` to pad to the longest sequence in the batch, or use `padding='max_length'` to pad to a max length. In this case, you can give a specific length with `max_length` (e.g. `max_length=45`) or leave max_length to None to pad to the maximal input size of the model (e.g. 512 for Bert).\n",
            "  warnings.warn(\n",
            "1it [00:00,  7.77it/s]"
          ]
        },
        {
          "output_type": "stream",
          "name": "stdout",
          "text": [
            "         0         1         2         3         4         5         6   \\\n",
            "0  0.173767  0.012844  0.098920 -0.150758 -0.162595 -0.101925 -0.064435   \n",
            "1  0.149292 -0.013768  0.011610 -0.004073 -0.218571 -0.231052 -0.127280   \n",
            "2  0.242110 -0.030672  0.097750 -0.097538 -0.187477 -0.177646 -0.195789   \n",
            "3  0.150232  0.015323  0.006123 -0.078625 -0.225446 -0.200146 -0.100145   \n",
            "\n",
            "         7         8         9   ...        44        45        46        47  \\\n",
            "0 -0.062807 -0.036178 -0.150250  ... -0.047056 -0.154401 -0.107743 -0.211837   \n",
            "1  0.048084 -0.023636 -0.084689  ... -0.008184 -0.183350 -0.087624 -0.170612   \n",
            "2 -0.049693  0.043677 -0.064663  ... -0.018161 -0.169161 -0.125703 -0.145265   \n",
            "3 -0.118565 -0.059573 -0.075705  ... -0.029309 -0.142144 -0.136959 -0.129792   \n",
            "\n",
            "         48        49        50        51        52        53  \n",
            "0  0.060329 -0.059799 -0.054053 -0.077098 -0.448194  0.023318  \n",
            "1  0.104372 -0.102476 -0.153862 -0.210152 -0.389625 -0.031330  \n",
            "2  0.090830 -0.076960 -0.097272 -0.227372 -0.286205  0.059813  \n",
            "3  0.081660 -0.072632 -0.155355 -0.096209 -0.357723 -0.004221  \n",
            "\n",
            "[4 rows x 54 columns]\n",
            "<class 'torch.Tensor'>\n",
            "Epoch: 1, Loss:  0.6445550322532654\n"
          ]
        },
        {
          "output_type": "stream",
          "name": "stderr",
          "text": [
            "\r1it [00:00,  2.96it/s]\n",
            "/usr/local/lib/python3.10/dist-packages/torch/utils/data/dataloader.py:561: UserWarning: This DataLoader will create 8 worker processes in total. Our suggested max number of worker in current system is 2, which is smaller than what this DataLoader is going to create. Please be aware that excessive worker creation might get DataLoader running slow or even freeze, lower the worker number to avoid potential slowness/freeze if necessary.\n",
            "  warnings.warn(_create_warning_msg(\n",
            "0it [00:00, ?it/s]/usr/local/lib/python3.10/dist-packages/transformers/tokenization_utils_base.py:2364: FutureWarning: The `pad_to_max_length` argument is deprecated and will be removed in a future version, use `padding=True` or `padding='longest'` to pad to the longest sequence in the batch, or use `padding='max_length'` to pad to a max length. In this case, you can give a specific length with `max_length` (e.g. `max_length=45`) or leave max_length to None to pad to the maximal input size of the model (e.g. 512 for Bert).\n",
            "  warnings.warn(\n"
          ]
        },
        {
          "output_type": "stream",
          "name": "stdout",
          "text": [
            "         0         1         2         3         4         5         6   \\\n",
            "0  0.310647 -0.059310  0.043037 -0.073052 -0.176255 -0.189937 -0.100302   \n",
            "1  0.249003 -0.032789  0.053527 -0.001169 -0.262397 -0.136251 -0.167822   \n",
            "2  0.214111  0.017836  0.143347 -0.111597 -0.079665 -0.028124 -0.120370   \n",
            "3  0.072970 -0.045385 -0.054866 -0.017480 -0.235257 -0.101760 -0.189158   \n",
            "\n",
            "         7         8         9   ...        44        45        46        47  \\\n",
            "0  0.011870 -0.050112  0.006446  ... -0.034575 -0.158069 -0.093821 -0.200746   \n",
            "1  0.055742 -0.000586 -0.083491  ...  0.072664 -0.116734 -0.094908 -0.263287   \n",
            "2 -0.080208 -0.034351 -0.121334  ... -0.039175 -0.120834 -0.224620 -0.296402   \n",
            "3 -0.018664  0.005028 -0.016451  ... -0.039547 -0.106742 -0.114854 -0.121749   \n",
            "\n",
            "         48        49        50        51        52        53  \n",
            "0  0.081225 -0.042399 -0.195142 -0.102207 -0.309283 -0.168804  \n",
            "1  0.044863 -0.053491 -0.192234 -0.240554 -0.326862 -0.092431  \n",
            "2  0.052029 -0.049742 -0.063912 -0.145779 -0.425430 -0.059148  \n",
            "3  0.015266 -0.051419 -0.084049 -0.153076 -0.276372 -0.036200  \n",
            "\n",
            "[4 rows x 54 columns]\n",
            "<class 'torch.Tensor'>\n",
            "Epoch: 2, Loss:  0.6383942365646362\n"
          ]
        },
        {
          "output_type": "stream",
          "name": "stderr",
          "text": [
            "\r1it [00:00,  3.16it/s]\n"
          ]
        }
      ]
    },
    {
      "cell_type": "code",
      "source": [
        "val_loader = DataLoader(val_set, **val_params)\n",
        "\n",
        "all_test_pred = []\n",
        "\n",
        "def test(epoch):\n",
        "    model.eval()\n",
        "    \n",
        "    with torch.inference_mode():\n",
        "    \n",
        "        for _, data in tqdm(enumerate(val_loader, 0)):\n",
        "\n",
        "\n",
        "            ids = data['ids'].to(DEVICE, dtype=torch.long)\n",
        "            mask = data['mask'].to(DEVICE, dtype=torch.long)\n",
        "            token_type_ids = data['token_type_ids'].to(DEVICE, dtype=torch.long)\n",
        "            outputs = model(ids, mask, token_type_ids)\n",
        "            print(outputs)\n",
        "            probas = torch.sigmoid(outputs)\n",
        "\n",
        "            all_test_pred.append(probas)\n",
        "            \n",
        "            \n",
        "    return probas\n",
        "probas = test(model)"
      ],
      "metadata": {
        "colab": {
          "base_uri": "https://localhost:8080/"
        },
        "id": "ReYRnKZz0aJr",
        "outputId": "d1be7f79-dbe1-4969-e528-461a0ea2b794"
      },
      "execution_count": null,
      "outputs": [
        {
          "output_type": "stream",
          "name": "stderr",
          "text": [
            "/usr/local/lib/python3.10/dist-packages/torch/utils/data/dataloader.py:561: UserWarning: This DataLoader will create 8 worker processes in total. Our suggested max number of worker in current system is 2, which is smaller than what this DataLoader is going to create. Please be aware that excessive worker creation might get DataLoader running slow or even freeze, lower the worker number to avoid potential slowness/freeze if necessary.\n",
            "  warnings.warn(_create_warning_msg(\n",
            "0it [00:00, ?it/s]/usr/local/lib/python3.10/dist-packages/transformers/tokenization_utils_base.py:2364: FutureWarning: The `pad_to_max_length` argument is deprecated and will be removed in a future version, use `padding=True` or `padding='longest'` to pad to the longest sequence in the batch, or use `padding='max_length'` to pad to a max length. In this case, you can give a specific length with `max_length` (e.g. `max_length=45`) or leave max_length to None to pad to the maximal input size of the model (e.g. 512 for Bert).\n",
            "  warnings.warn(\n"
          ]
        },
        {
          "output_type": "stream",
          "name": "stdout",
          "text": [
            "tensor([[ 0.1151,  0.0179, -0.0501,  0.0319, -0.2003, -0.1207, -0.0916,  0.0145,\n",
            "         -0.0053, -0.0379, -0.2164, -0.1339, -0.0189,  0.1045, -0.0658, -0.1487,\n",
            "          0.0671,  0.0379,  0.0711,  0.1347, -0.0142, -0.1379, -0.0948,  0.0114,\n",
            "         -0.0422, -0.0923,  0.1147, -0.1087, -0.0751,  0.1036,  0.1045, -0.0578,\n",
            "          0.1134, -0.0248, -0.0070, -0.0179, -0.0833, -0.0551,  0.0804, -0.0269,\n",
            "          0.1492, -0.0734, -0.0152,  0.0035,  0.1317, -0.1251, -0.0224, -0.1231,\n",
            "          0.0606, -0.0615, -0.0901,  0.0022, -0.3573,  0.0954],\n",
            "        [ 0.0751,  0.0340, -0.0838, -0.0112, -0.1957, -0.1010, -0.0939, -0.0012,\n",
            "          0.0108, -0.0389, -0.0994, -0.1312, -0.0339,  0.0478, -0.0800, -0.1084,\n",
            "          0.0838,  0.0274,  0.0077,  0.0857, -0.0191, -0.1389, -0.1118,  0.0224,\n",
            "         -0.1075, -0.1288,  0.1357, -0.0998, -0.0276,  0.0989,  0.0697, -0.0571,\n",
            "          0.1234, -0.0492,  0.0134,  0.0143, -0.0493, -0.0539,  0.0029, -0.0135,\n",
            "          0.1454, -0.0659, -0.0463,  0.0048,  0.0676, -0.1480, -0.0306, -0.1452,\n",
            "          0.0362, -0.0650, -0.0935, -0.0572, -0.3225,  0.0684]],\n",
            "       device='cuda:0')\n"
          ]
        },
        {
          "output_type": "stream",
          "name": "stderr",
          "text": [
            "\r1it [00:00,  3.24it/s]\n"
          ]
        }
      ]
    },
    {
      "cell_type": "code",
      "source": [
        "TEST_BATCH_SIZE = 6\n",
        "\n",
        "test_params = {'batch_size': TEST_BATCH_SIZE,\n",
        "               'shuffle': False,\n",
        "               'num_workers': 8\n",
        "                }\n",
        "\n",
        "\n",
        "test_set = MultiLabelDataset(train_data, tokenizer, MAX_LEN)\n",
        "test_loader = DataLoader(test_set, **test_params)\n",
        "\n",
        "\n",
        "temp_df = pd.DataFrame()\n",
        "def test(epoch):\n",
        "    model.eval()\n",
        "    \n",
        "    with torch.inference_mode():\n",
        "    \n",
        "        for _, data in tqdm(enumerate(test_loader, 0)):\n",
        "\n",
        "\n",
        "            ids = data['ids'].to(DEVICE, dtype=torch.long)\n",
        "            mask = data['mask'].to(DEVICE, dtype=torch.long)\n",
        "            token_type_ids = data['token_type_ids'].to(DEVICE, dtype=torch.long)\n",
        "            outputs = model(ids, mask, token_type_ids)\n",
        "\n",
        "\n",
        "            temp_df = pd.DataFrame(outputs.cpu().detach().numpy())\n",
        "            #df_rounded = temp_df.applymap(lambda x: 1 if x > 0.5 else 0)\n",
        "            temp_df.to_csv(\"/content/results.csv\", index=False)\n",
        "            print(temp_df)\n",
        "\n",
        "            probas = torch.sigmoid(outputs)\n",
        "\n",
        "            all_test_pred.append(probas)\n",
        "            \n",
        "            \n",
        "    return probas\n",
        "probas = test(model)\n",
        "\n",
        "temp_df.to_csv(\"results.csv\", index=False)\n",
        "temp_df.to_csv(\"/content/results.csv\", index=False)"
      ],
      "metadata": {
        "colab": {
          "base_uri": "https://localhost:8080/"
        },
        "id": "TS0svmQj4aUy",
        "outputId": "cd615ca6-d698-4b41-ec45-b429f0c17253"
      },
      "execution_count": null,
      "outputs": [
        {
          "output_type": "stream",
          "name": "stderr",
          "text": [
            "/usr/local/lib/python3.10/dist-packages/torch/utils/data/dataloader.py:561: UserWarning: This DataLoader will create 8 worker processes in total. Our suggested max number of worker in current system is 2, which is smaller than what this DataLoader is going to create. Please be aware that excessive worker creation might get DataLoader running slow or even freeze, lower the worker number to avoid potential slowness/freeze if necessary.\n",
            "  warnings.warn(_create_warning_msg(\n",
            "/usr/local/lib/python3.10/dist-packages/torch/utils/data/dataloader.py:561: UserWarning: This DataLoader will create 8 worker processes in total. Our suggested max number of worker in current system is 2, which is smaller than what this DataLoader is going to create. Please be aware that excessive worker creation might get DataLoader running slow or even freeze, lower the worker number to avoid potential slowness/freeze if necessary.\n",
            "  warnings.warn(_create_warning_msg(\n",
            "0it [00:00, ?it/s]/usr/local/lib/python3.10/dist-packages/transformers/tokenization_utils_base.py:2364: FutureWarning: The `pad_to_max_length` argument is deprecated and will be removed in a future version, use `padding=True` or `padding='longest'` to pad to the longest sequence in the batch, or use `padding='max_length'` to pad to a max length. In this case, you can give a specific length with `max_length` (e.g. `max_length=45`) or leave max_length to None to pad to the maximal input size of the model (e.g. 512 for Bert).\n",
            "  warnings.warn(\n",
            "1it [00:00,  3.56it/s]"
          ]
        },
        {
          "output_type": "stream",
          "name": "stdout",
          "text": [
            "         0         1         2         3         4         5         6   \\\n",
            "0  0.240727 -0.086226  0.063631 -0.054719 -0.244915 -0.171508 -0.207122   \n",
            "1  0.150497  0.050478  0.114338 -0.174330 -0.238030 -0.058276 -0.118511   \n",
            "2  0.144219 -0.000399  0.031171 -0.058357 -0.261946 -0.130993 -0.166629   \n",
            "3  0.092364 -0.035548  0.045001 -0.106918 -0.210249 -0.134337 -0.200580   \n",
            "4  0.237576 -0.054163  0.072381 -0.081666 -0.241144 -0.178020 -0.173918   \n",
            "5  0.111617 -0.006596 -0.014167 -0.098474 -0.245513 -0.109415 -0.163745   \n",
            "\n",
            "         7         8         9   ...        44        45        46        47  \\\n",
            "0  0.069259 -0.027271 -0.071921  ...  0.006373 -0.182811 -0.126584 -0.245638   \n",
            "1 -0.005190 -0.042398 -0.142083  ... -0.036281 -0.187027 -0.161045 -0.191858   \n",
            "2 -0.021197 -0.018849 -0.088459  ...  0.054625 -0.180659 -0.086190 -0.183680   \n",
            "3 -0.052968 -0.023912  0.004654  ... -0.042078 -0.182569 -0.117808 -0.198894   \n",
            "4  0.026863 -0.022746 -0.075500  ... -0.024170 -0.180087 -0.083462 -0.232120   \n",
            "5 -0.015178  0.005076 -0.104254  ... -0.002608 -0.193006 -0.088648 -0.227338   \n",
            "\n",
            "         48        49        50        51        52        53  \n",
            "0  0.096880 -0.096175 -0.220838 -0.211119 -0.311214 -0.062963  \n",
            "1  0.065599 -0.132809 -0.064819 -0.063468 -0.440373  0.006807  \n",
            "2  0.076728 -0.125007 -0.120658 -0.092766 -0.391421  0.011312  \n",
            "3  0.077445 -0.094710 -0.169354 -0.224574 -0.383347 -0.002831  \n",
            "4  0.111646 -0.108959 -0.243682 -0.249973 -0.358028 -0.124007  \n",
            "5  0.058915 -0.126880 -0.148464 -0.156473 -0.356058  0.005921  \n",
            "\n",
            "[6 rows x 54 columns]\n"
          ]
        },
        {
          "output_type": "stream",
          "name": "stderr",
          "text": [
            "\n"
          ]
        }
      ]
    }
  ]
}